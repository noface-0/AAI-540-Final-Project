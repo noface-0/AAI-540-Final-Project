{
 "cells": [
  {
   "cell_type": "markdown",
   "metadata": {},
   "source": [
    "# Research Notebook: Development of SAC Reinforcement Learning Model for Stock Trading\n",
    "\n",
    "## Team Members:\n",
    "- Javon Kitson\n",
    "- Nathan Metheny\n",
    "- Kobe Mensah\n",
    "\n",
    "---\n",
    "\n",
    "## Notebook Introduction\n",
    "\n",
    "This Jupyter notebook serves as a detailed documentation and workspace for our research and development process in creating a Soft Actor-Critic (SAC) reinforcement learning model tailored for stock trading. The notebook is structured to guide through the various stages of model development, from data handling to final evaluation.\n",
    "\n",
    "\n",
    "## Notebook Objectives\n",
    "\n",
    "1. **Dataset Handling and Preparation**: To detail the process of acquiring, cleaning, and preparing the stock price data for model training.\n",
    "2. **Feature Engineering**: To explore and define the set of features that will be used by the SAC model, enhancing its ability to make informed trading decisions.\n",
    "3. **Model Development**: To document the iterative process of designing, training, and tuning the SAC model.\n",
    "4. **Evaluation and Testing**: To assess the model's performance using historical data, focusing on its ability to make profitable trading decisions.\n",
    "\n",
    "## Dataset\n",
    "First Rate Data: https://firstratedata.com/cb/4/complete-stocks-etf \\\n",
    "Volume: 262GB \\\n",
    "Unique Tickers: 10120\n",
    "\n",
    "---\n",
    "\n",
    "### Data Engineering\n",
    "\n",
    "- Overview of the data source and its characteristics.\n",
    "- Steps taken for data cleaning and preprocessing.\n",
    "- Strategies for data storage and retrieval.\n",
    "\n",
    "### Feature Engineering\n",
    "\n",
    "- Identification and justification of chosen features for the model.\n",
    "- Detailed explanation of the feature engineering process.\n",
    "- Analysis of the impact of these features on the model’s performance.\n",
    "\n",
    "\n",
    "### Model Development\n",
    "\n",
    "- Detailed description of the SAC algorithm and its suitability for stock trading.\n",
    "- Architecture of the Actor and Critic networks within the SAC framework.\n",
    "- Hyperparameter selection and optimization process.\n",
    "\n",
    "### Training Process\n",
    "\n",
    "- Methodology for training the SAC model using the prepared dataset.\n",
    "- Techniques employed for improving model performance and avoiding overfitting.\n",
    "- Continuous evaluation during the training phase.\n",
    "\n",
    "### Model Evaluation and Testing\n",
    "\n",
    "- Criteria and metrics for model evaluation, including profitability and Sharpe Ratio.\n",
    "- Testing process using the validation and test datasets.\n",
    "- Comparison of model performance against traditional trading strategies."
   ]
  },
  {
   "cell_type": "code",
   "execution_count": null,
   "metadata": {},
   "outputs": [],
   "source": [
    "# Import"
   ]
  },
  {
   "cell_type": "markdown",
   "metadata": {},
   "source": [
    "## Data Engineering"
   ]
  },
  {
   "cell_type": "code",
   "execution_count": null,
   "metadata": {},
   "outputs": [],
   "source": []
  },
  {
   "cell_type": "markdown",
   "metadata": {},
   "source": [
    "## Feature Engineering"
   ]
  },
  {
   "cell_type": "markdown",
   "metadata": {},
   "source": [
    "## Model Development"
   ]
  },
  {
   "cell_type": "markdown",
   "metadata": {},
   "source": [
    "## Training Process"
   ]
  },
  {
   "cell_type": "markdown",
   "metadata": {},
   "source": [
    "## Model Evaluation and Testing"
   ]
  }
 ],
 "metadata": {
  "language_info": {
   "name": "python"
  }
 },
 "nbformat": 4,
 "nbformat_minor": 2
}
