{
 "cells": [
  {
   "cell_type": "markdown",
   "metadata": {},
   "source": [
    "# Research Notebook: Development of SAC Reinforcement Learning Model for Stock Trading\n",
    "\n",
    "## Team Members:\n",
    "- Javon Kitson\n",
    "- Nathan Metheny\n",
    "- Kobe Mensah\n",
    "\n",
    "---\n",
    "\n",
    "## Notebook Introduction\n",
    "\n",
    "This Jupyter notebook serves as a detailed documentation and workspace for our research and development process in creating a Soft Actor-Critic (SAC) reinforcement learning model tailored for stock trading. The notebook is structured to guide through the various stages of model development, from data handling to final evaluation.\n",
    "\n",
    "\n",
    "## Notebook Objectives\n",
    "\n",
    "1. **Dataset Handling and Preparation**: To detail the process of acquiring, cleaning, and preparing the stock price data for model training.\n",
    "2. **Feature Engineering**: To explore and define the set of features that will be used by the SAC model, enhancing its ability to make informed trading decisions.\n",
    "3. **Model Development**: To document the iterative process of designing, training, and tuning the SAC model.\n",
    "4. **Evaluation and Testing**: To assess the model's performance using historical data, focusing on its ability to make profitable trading decisions.\n",
    "\n",
    "## Dataset\n",
    "First Rate Data: https://firstratedata.com/cb/4/complete-stocks-etf \\\n",
    "Volume: 262GB \\\n",
    "Unique Tickers: 10120\n",
    "\n",
    "---\n",
    "\n",
    "### Data Engineering\n",
    "\n",
    "- Overview of the data source and its characteristics.\n",
    "- Steps taken for data cleaning and preprocessing.\n",
    "- Strategies for data storage and retrieval.\n",
    "\n",
    "### Feature Engineering\n",
    "\n",
    "- Identification and justification of chosen features for the model.\n",
    "- Detailed explanation of the feature engineering process.\n",
    "- Analysis of the impact of these features on the model’s performance.\n",
    "\n",
    "\n",
    "### Model Development\n",
    "\n",
    "- Detailed description of the SAC algorithm and its suitability for stock trading.\n",
    "- Architecture of the Actor and Critic networks within the SAC framework.\n",
    "- Hyperparameter selection and optimization process.\n",
    "\n",
    "### Training Process\n",
    "\n",
    "- Methodology for training the SAC model using the prepared dataset.\n",
    "- Techniques employed for improving model performance and avoiding overfitting.\n",
    "- Continuous evaluation during the training phase.\n",
    "\n",
    "### Model Evaluation and Testing\n",
    "\n",
    "- Criteria and metrics for model evaluation, including profitability and Sharpe Ratio.\n",
    "- Testing process using the validation and test datasets.\n",
    "- Comparison of model performance against traditional trading strategies."
   ]
  },
  {
   "cell_type": "markdown",
   "metadata": {
    "tags": []
   },
   "source": [
    "## Environment Setup"
   ]
  },
  {
   "cell_type": "code",
   "execution_count": 5,
   "metadata": {
    "tags": []
   },
   "outputs": [
    {
     "name": "stdout",
     "output_type": "stream",
     "text": [
      "\u001b[33m      WARNING: Cannot remove entries from nonexistent file /opt/conda/lib/python3.10/site-packages/easy-install.pth\u001b[0m\u001b[33m\n",
      "\u001b[0m\u001b[31mERROR: pip's dependency resolver does not currently take into account all the packages that are installed. This behaviour is the source of the following dependency conflicts.\n",
      "spyder 5.3.3 requires pyqt5<5.16, which is not installed.\n",
      "spyder 5.3.3 requires pyqtwebengine<5.16, which is not installed.\n",
      "distributed 2022.7.0 requires tornado<6.2,>=6.0.3, but you have tornado 6.4 which is incompatible.\n",
      "jupyterlab 3.4.4 requires jupyter-server~=1.16, but you have jupyter-server 2.12.1 which is incompatible.\n",
      "jupyterlab-server 2.10.3 requires jupyter-server~=1.4, but you have jupyter-server 2.12.1 which is incompatible.\n",
      "notebook 6.5.6 requires jupyter-client<8,>=5.3.4, but you have jupyter-client 8.6.0 which is incompatible.\n",
      "notebook 6.5.6 requires pyzmq<25,>=17, but you have pyzmq 25.1.2 which is incompatible.\n",
      "panel 0.13.1 requires bokeh<2.5.0,>=2.4.0, but you have bokeh 3.3.2 which is incompatible.\n",
      "sagemaker 2.199.0 requires boto3<2.0,>=1.33.3, but you have boto3 1.16.56 which is incompatible.\n",
      "sagemaker 2.199.0 requires PyYAML~=6.0, but you have pyyaml 5.3.1 which is incompatible.\n",
      "sagemaker-studio-analytics-extension 0.0.20 requires boto3<2.0,>=1.26.49, but you have boto3 1.16.56 which is incompatible.\n",
      "spyder 5.3.3 requires ipython<8.0.0,>=7.31.1, but you have ipython 8.18.1 which is incompatible.\n",
      "spyder 5.3.3 requires pylint<3.0,>=2.5.0, but you have pylint 3.0.2 which is incompatible.\u001b[0m\u001b[31m\n",
      "\u001b[0m\u001b[33mWARNING: Running pip as the 'root' user can result in broken permissions and conflicting behaviour with the system package manager. It is recommended to use a virtual environment instead: https://pip.pypa.io/warnings/venv\u001b[0m\u001b[33m\n",
      "\u001b[0m"
     ]
    }
   ],
   "source": [
    "# AWS CLI and AWS Python SDK (boto3)\n",
    "!pip install --disable-pip-version-check -q awscli==1.18.216 boto3==1.16.56 botocore==1.19.56"
   ]
  },
  {
   "cell_type": "code",
   "execution_count": 6,
   "metadata": {
    "tags": []
   },
   "outputs": [
    {
     "name": "stdout",
     "output_type": "stream",
     "text": [
      "\u001b[33mWARNING: Running pip as the 'root' user can result in broken permissions and conflicting behaviour with the system package manager. It is recommended to use a virtual environment instead: https://pip.pypa.io/warnings/venv\u001b[0m\u001b[33m\n",
      "\u001b[0m\u001b[33mWARNING: Running pip as the 'root' user can result in broken permissions and conflicting behaviour with the system package manager. It is recommended to use a virtual environment instead: https://pip.pypa.io/warnings/venv\u001b[0m\u001b[33m\n",
      "\u001b[0m\u001b[33mWARNING: Running pip as the 'root' user can result in broken permissions and conflicting behaviour with the system package manager. It is recommended to use a virtual environment instead: https://pip.pypa.io/warnings/venv\u001b[0m\u001b[33m\n",
      "\u001b[0m"
     ]
    }
   ],
   "source": [
    "# SageMaker\n",
    "!pip install --disable-pip-version-check -q sagemaker==2.29.0\n",
    "!pip install --disable-pip-version-check -q smdebug==1.0.1\n",
    "!pip install --disable-pip-version-check -q sagemaker-experiments==0.1.26"
   ]
  },
  {
   "cell_type": "code",
   "execution_count": 7,
   "metadata": {
    "tags": []
   },
   "outputs": [
    {
     "name": "stdout",
     "output_type": "stream",
     "text": [
      "\u001b[33mWARNING: Running pip as the 'root' user can result in broken permissions and conflicting behaviour with the system package manager. It is recommended to use a virtual environment instead: https://pip.pypa.io/warnings/venv\u001b[0m\u001b[33m\n",
      "\u001b[0m"
     ]
    }
   ],
   "source": [
    "# PyAthena\n",
    "!pip install --disable-pip-version-check -q PyAthena==2.1.0"
   ]
  },
  {
   "cell_type": "code",
   "execution_count": 8,
   "metadata": {
    "tags": []
   },
   "outputs": [
    {
     "name": "stdout",
     "output_type": "stream",
     "text": [
      "\u001b[31mERROR: pip's dependency resolver does not currently take into account all the packages that are installed. This behaviour is the source of the following dependency conflicts.\n",
      "spyder 5.3.3 requires pyqt5<5.16, which is not installed.\n",
      "spyder 5.3.3 requires pyqtwebengine<5.16, which is not installed.\n",
      "awscli 1.18.216 requires botocore==1.19.56, but you have botocore 1.34.34 which is incompatible.\n",
      "awscli 1.18.216 requires s3transfer<0.4.0,>=0.3.0, but you have s3transfer 0.10.0 which is incompatible.\n",
      "panel 0.13.1 requires bokeh<2.5.0,>=2.4.0, but you have bokeh 3.3.2 which is incompatible.\n",
      "spyder 5.3.3 requires ipython<8.0.0,>=7.31.1, but you have ipython 8.18.1 which is incompatible.\n",
      "spyder 5.3.3 requires pylint<3.0,>=2.5.0, but you have pylint 3.0.2 which is incompatible.\u001b[0m\u001b[31m\n",
      "\u001b[0m\u001b[33mWARNING: Running pip as the 'root' user can result in broken permissions and conflicting behaviour with the system package manager. It is recommended to use a virtual environment instead: https://pip.pypa.io/warnings/venv\u001b[0m\u001b[33m\n",
      "\u001b[0m"
     ]
    }
   ],
   "source": [
    "# AWS Data Wrangler\n",
    "!pip install --disable-pip-version-check -q awswrangler"
   ]
  },
  {
   "cell_type": "code",
   "execution_count": 9,
   "metadata": {
    "tags": []
   },
   "outputs": [
    {
     "name": "stdout",
     "output_type": "stream",
     "text": [
      "Collecting package metadata (current_repodata.json): done\n",
      "Solving environment: done\n",
      "\n",
      "\n",
      "==> WARNING: A newer version of conda exists. <==\n",
      "  current version: 23.3.1\n",
      "  latest version: 24.1.0\n",
      "\n",
      "Please update conda by running\n",
      "\n",
      "    $ conda update -n base -c defaults conda\n",
      "\n",
      "Or to minimize the number of packages updated during conda update use\n",
      "\n",
      "     conda install conda=24.1.0\n",
      "\n",
      "\n",
      "\n",
      "## Package Plan ##\n",
      "\n",
      "  environment location: /opt/conda\n",
      "\n",
      "  added / updated specs:\n",
      "    - zip\n",
      "\n",
      "\n",
      "The following packages will be downloaded:\n",
      "\n",
      "    package                    |            build\n",
      "    ---------------------------|-----------------\n",
      "    ca-certificates-2023.12.12 |       h06a4308_0         126 KB\n",
      "    certifi-2023.11.17         |  py310h06a4308_0         158 KB\n",
      "    zip-3.0                    |       h7f8727e_1         111 KB\n",
      "    ------------------------------------------------------------\n",
      "                                           Total:         395 KB\n",
      "\n",
      "The following NEW packages will be INSTALLED:\n",
      "\n",
      "  zip                pkgs/main/linux-64::zip-3.0-h7f8727e_1 \n",
      "\n",
      "The following packages will be UPDATED:\n",
      "\n",
      "  ca-certificates    conda-forge::ca-certificates-2023.11.~ --> pkgs/main::ca-certificates-2023.12.12-h06a4308_0 \n",
      "\n",
      "The following packages will be SUPERSEDED by a higher-priority channel:\n",
      "\n",
      "  certifi            conda-forge/noarch::certifi-2023.11.1~ --> pkgs/main/linux-64::certifi-2023.11.17-py310h06a4308_0 \n",
      "\n",
      "\n",
      "\n",
      "Downloading and Extracting Packages\n",
      "zip-3.0              | 111 KB    |                                       |   0% \n",
      "ca-certificates-2023 | 126 KB    |                                       |   0% \u001b[A\n",
      "\n",
      "zip-3.0              | 111 KB    | ##################################### | 100% \u001b[A\u001b[A\n",
      "ca-certificates-2023 | 126 KB    | ##################################### | 100% \u001b[A\n",
      "\n",
      "                                                                                \u001b[A\u001b[A\n",
      "                                                                                \u001b[A\n",
      "\n",
      "                                                                                \u001b[A\u001b[A\n",
      "Preparing transaction: done\n",
      "Verifying transaction: done\n",
      "Executing transaction: done\n"
     ]
    }
   ],
   "source": [
    "# Zip\n",
    "!conda install -y zip"
   ]
  },
  {
   "cell_type": "code",
   "execution_count": 10,
   "metadata": {
    "tags": []
   },
   "outputs": [
    {
     "name": "stdout",
     "output_type": "stream",
     "text": [
      "  \u001b[1;31merror\u001b[0m: \u001b[1msubprocess-exited-with-error\u001b[0m\n",
      "  \n",
      "  \u001b[31m×\u001b[0m \u001b[32mpython setup.py bdist_wheel\u001b[0m did not run successfully.\n",
      "  \u001b[31m│\u001b[0m exit code: \u001b[1;36m1\u001b[0m\n",
      "  \u001b[31m╰─>\u001b[0m \u001b[31m[531 lines of output]\u001b[0m\n",
      "  \u001b[31m   \u001b[0m IMPORTANT WARNING:\n",
      "  \u001b[31m   \u001b[0m     pkg-config is not installed.\n",
      "  \u001b[31m   \u001b[0m     matplotlib may not be able to find some of its dependencies\n",
      "  \u001b[31m   \u001b[0m ================================================================================\n",
      "  \u001b[31m   \u001b[0m Edit setup.cfg to change the build options\n",
      "  \u001b[31m   \u001b[0m \n",
      "  \u001b[31m   \u001b[0m BUILDING MATPLOTLIB\n",
      "  \u001b[31m   \u001b[0m   matplotlib: yes [3.1.3]\n",
      "  \u001b[31m   \u001b[0m       python: yes [3.10.6 (main, Oct  7 2022, 20:19:58) [GCC 11.2.0]]\n",
      "  \u001b[31m   \u001b[0m     platform: yes [linux]\n",
      "  \u001b[31m   \u001b[0m \n",
      "  \u001b[31m   \u001b[0m OPTIONAL SUBPACKAGES\n",
      "  \u001b[31m   \u001b[0m  sample_data: yes [installing]\n",
      "  \u001b[31m   \u001b[0m        tests: no  [skipping due to configuration]\n",
      "  \u001b[31m   \u001b[0m \n",
      "  \u001b[31m   \u001b[0m OPTIONAL BACKEND EXTENSIONS\n",
      "  \u001b[31m   \u001b[0m          agg: yes [installing]\n",
      "  \u001b[31m   \u001b[0m        tkagg: yes [installing; run-time loading from Python Tcl/Tk]\n",
      "  \u001b[31m   \u001b[0m       macosx: no  [Mac OS-X only]\n",
      "  \u001b[31m   \u001b[0m \n",
      "  \u001b[31m   \u001b[0m OPTIONAL PACKAGE DATA\n",
      "  \u001b[31m   \u001b[0m         dlls: no  [skipping due to configuration]\n",
      "  \u001b[31m   \u001b[0m \n",
      "  \u001b[31m   \u001b[0m /opt/conda/lib/python3.10/site-packages/setuptools/__init__.py:80: _DeprecatedInstaller: setuptools.installer and fetch_build_eggs are deprecated.\n",
      "  \u001b[31m   \u001b[0m !!\n",
      "  \u001b[31m   \u001b[0m \n",
      "  \u001b[31m   \u001b[0m         ********************************************************************************\n",
      "  \u001b[31m   \u001b[0m         Requirements should be satisfied by a PEP 517 installer.\n",
      "  \u001b[31m   \u001b[0m         If you are using pip, you can try `pip install --use-pep517`.\n",
      "  \u001b[31m   \u001b[0m         ********************************************************************************\n",
      "  \u001b[31m   \u001b[0m \n",
      "  \u001b[31m   \u001b[0m !!\n",
      "  \u001b[31m   \u001b[0m   dist.fetch_build_eggs(dist.setup_requires)\n",
      "  \u001b[31m   \u001b[0m /opt/conda/lib/python3.10/site-packages/setuptools/dist.py:674: SetuptoolsDeprecationWarning: The namespace_packages parameter is deprecated.\n",
      "  \u001b[31m   \u001b[0m !!\n",
      "  \u001b[31m   \u001b[0m \n",
      "  \u001b[31m   \u001b[0m         ********************************************************************************\n",
      "  \u001b[31m   \u001b[0m         Please replace its usage with implicit namespaces (PEP 420).\n",
      "  \u001b[31m   \u001b[0m \n",
      "  \u001b[31m   \u001b[0m         See https://setuptools.pypa.io/en/latest/references/keywords.html#keyword-namespace-packages for details.\n",
      "  \u001b[31m   \u001b[0m         ********************************************************************************\n",
      "  \u001b[31m   \u001b[0m \n",
      "  \u001b[31m   \u001b[0m !!\n",
      "  \u001b[31m   \u001b[0m   ep.load()(self, ep.name, value)\n",
      "  \u001b[31m   \u001b[0m running bdist_wheel\n",
      "  \u001b[31m   \u001b[0m running build\n",
      "  \u001b[31m   \u001b[0m running build_py\n",
      "  \u001b[31m   \u001b[0m creating build\n",
      "  \u001b[31m   \u001b[0m creating build/lib.linux-x86_64-cpython-310\n",
      "  \u001b[31m   \u001b[0m copying lib/pylab.py -> build/lib.linux-x86_64-cpython-310\n",
      "  \u001b[31m   \u001b[0m creating build/lib.linux-x86_64-cpython-310/matplotlib\n",
      "  \u001b[31m   \u001b[0m copying lib/matplotlib/__init__.py -> build/lib.linux-x86_64-cpython-310/matplotlib\n",
      "  \u001b[31m   \u001b[0m copying lib/matplotlib/_animation_data.py -> build/lib.linux-x86_64-cpython-310/matplotlib\n",
      "  \u001b[31m   \u001b[0m copying lib/matplotlib/_cm.py -> build/lib.linux-x86_64-cpython-310/matplotlib\n",
      "  \u001b[31m   \u001b[0m copying lib/matplotlib/_cm_listed.py -> build/lib.linux-x86_64-cpython-310/matplotlib\n",
      "  \u001b[31m   \u001b[0m copying lib/matplotlib/_color_data.py -> build/lib.linux-x86_64-cpython-310/matplotlib\n",
      "  \u001b[31m   \u001b[0m copying lib/matplotlib/_constrained_layout.py -> build/lib.linux-x86_64-cpython-310/matplotlib\n",
      "  \u001b[31m   \u001b[0m copying lib/matplotlib/_layoutbox.py -> build/lib.linux-x86_64-cpython-310/matplotlib\n",
      "  \u001b[31m   \u001b[0m copying lib/matplotlib/_mathtext_data.py -> build/lib.linux-x86_64-cpython-310/matplotlib\n",
      "  \u001b[31m   \u001b[0m copying lib/matplotlib/_pylab_helpers.py -> build/lib.linux-x86_64-cpython-310/matplotlib\n",
      "  \u001b[31m   \u001b[0m copying lib/matplotlib/_version.py -> build/lib.linux-x86_64-cpython-310/matplotlib\n",
      "  \u001b[31m   \u001b[0m copying lib/matplotlib/afm.py -> build/lib.linux-x86_64-cpython-310/matplotlib\n",
      "  \u001b[31m   \u001b[0m copying lib/matplotlib/animation.py -> build/lib.linux-x86_64-cpython-310/matplotlib\n",
      "  \u001b[31m   \u001b[0m copying lib/matplotlib/artist.py -> build/lib.linux-x86_64-cpython-310/matplotlib\n",
      "  \u001b[31m   \u001b[0m copying lib/matplotlib/axis.py -> build/lib.linux-x86_64-cpython-310/matplotlib\n",
      "  \u001b[31m   \u001b[0m copying lib/matplotlib/backend_bases.py -> build/lib.linux-x86_64-cpython-310/matplotlib\n",
      "  \u001b[31m   \u001b[0m copying lib/matplotlib/backend_managers.py -> build/lib.linux-x86_64-cpython-310/matplotlib\n",
      "  \u001b[31m   \u001b[0m copying lib/matplotlib/backend_tools.py -> build/lib.linux-x86_64-cpython-310/matplotlib\n",
      "  \u001b[31m   \u001b[0m copying lib/matplotlib/bezier.py -> build/lib.linux-x86_64-cpython-310/matplotlib\n",
      "  \u001b[31m   \u001b[0m copying lib/matplotlib/blocking_input.py -> build/lib.linux-x86_64-cpython-310/matplotlib\n",
      "  \u001b[31m   \u001b[0m copying lib/matplotlib/category.py -> build/lib.linux-x86_64-cpython-310/matplotlib\n",
      "  \u001b[31m   \u001b[0m copying lib/matplotlib/cm.py -> build/lib.linux-x86_64-cpython-310/matplotlib\n",
      "  \u001b[31m   \u001b[0m copying lib/matplotlib/collections.py -> build/lib.linux-x86_64-cpython-310/matplotlib\n",
      "  \u001b[31m   \u001b[0m copying lib/matplotlib/colorbar.py -> build/lib.linux-x86_64-cpython-310/matplotlib\n",
      "  \u001b[31m   \u001b[0m copying lib/matplotlib/colors.py -> build/lib.linux-x86_64-cpython-310/matplotlib\n",
      "  \u001b[31m   \u001b[0m copying lib/matplotlib/container.py -> build/lib.linux-x86_64-cpython-310/matplotlib\n",
      "  \u001b[31m   \u001b[0m copying lib/matplotlib/contour.py -> build/lib.linux-x86_64-cpython-310/matplotlib\n",
      "  \u001b[31m   \u001b[0m copying lib/matplotlib/dates.py -> build/lib.linux-x86_64-cpython-310/matplotlib\n",
      "  \u001b[31m   \u001b[0m copying lib/matplotlib/docstring.py -> build/lib.linux-x86_64-cpython-310/matplotlib\n",
      "  \u001b[31m   \u001b[0m copying lib/matplotlib/dviread.py -> build/lib.linux-x86_64-cpython-310/matplotlib\n",
      "  \u001b[31m   \u001b[0m copying lib/matplotlib/figure.py -> build/lib.linux-x86_64-cpython-310/matplotlib\n",
      "  \u001b[31m   \u001b[0m copying lib/matplotlib/font_manager.py -> build/lib.linux-x86_64-cpython-310/matplotlib\n",
      "  \u001b[31m   \u001b[0m copying lib/matplotlib/fontconfig_pattern.py -> build/lib.linux-x86_64-cpython-310/matplotlib\n",
      "  \u001b[31m   \u001b[0m copying lib/matplotlib/gridspec.py -> build/lib.linux-x86_64-cpython-310/matplotlib\n",
      "  \u001b[31m   \u001b[0m copying lib/matplotlib/hatch.py -> build/lib.linux-x86_64-cpython-310/matplotlib\n",
      "  \u001b[31m   \u001b[0m copying lib/matplotlib/image.py -> build/lib.linux-x86_64-cpython-310/matplotlib\n",
      "  \u001b[31m   \u001b[0m copying lib/matplotlib/legend.py -> build/lib.linux-x86_64-cpython-310/matplotlib\n",
      "  \u001b[31m   \u001b[0m copying lib/matplotlib/legend_handler.py -> build/lib.linux-x86_64-cpython-310/matplotlib\n",
      "  \u001b[31m   \u001b[0m copying lib/matplotlib/lines.py -> build/lib.linux-x86_64-cpython-310/matplotlib\n",
      "  \u001b[31m   \u001b[0m copying lib/matplotlib/markers.py -> build/lib.linux-x86_64-cpython-310/matplotlib\n",
      "  \u001b[31m   \u001b[0m copying lib/matplotlib/mathtext.py -> build/lib.linux-x86_64-cpython-310/matplotlib\n",
      "  \u001b[31m   \u001b[0m copying lib/matplotlib/mlab.py -> build/lib.linux-x86_64-cpython-310/matplotlib\n",
      "  \u001b[31m   \u001b[0m copying lib/matplotlib/offsetbox.py -> build/lib.linux-x86_64-cpython-310/matplotlib\n",
      "  \u001b[31m   \u001b[0m copying lib/matplotlib/patches.py -> build/lib.linux-x86_64-cpython-310/matplotlib\n",
      "  \u001b[31m   \u001b[0m copying lib/matplotlib/path.py -> build/lib.linux-x86_64-cpython-310/matplotlib\n",
      "  \u001b[31m   \u001b[0m copying lib/matplotlib/patheffects.py -> build/lib.linux-x86_64-cpython-310/matplotlib\n",
      "  \u001b[31m   \u001b[0m copying lib/matplotlib/pylab.py -> build/lib.linux-x86_64-cpython-310/matplotlib\n",
      "  \u001b[31m   \u001b[0m copying lib/matplotlib/pyplot.py -> build/lib.linux-x86_64-cpython-310/matplotlib\n",
      "  \u001b[31m   \u001b[0m copying lib/matplotlib/quiver.py -> build/lib.linux-x86_64-cpython-310/matplotlib\n",
      "  \u001b[31m   \u001b[0m copying lib/matplotlib/rcsetup.py -> build/lib.linux-x86_64-cpython-310/matplotlib\n",
      "  \u001b[31m   \u001b[0m copying lib/matplotlib/sankey.py -> build/lib.linux-x86_64-cpython-310/matplotlib\n",
      "  \u001b[31m   \u001b[0m copying lib/matplotlib/scale.py -> build/lib.linux-x86_64-cpython-310/matplotlib\n",
      "  \u001b[31m   \u001b[0m copying lib/matplotlib/spines.py -> build/lib.linux-x86_64-cpython-310/matplotlib\n",
      "  \u001b[31m   \u001b[0m copying lib/matplotlib/stackplot.py -> build/lib.linux-x86_64-cpython-310/matplotlib\n",
      "  \u001b[31m   \u001b[0m copying lib/matplotlib/streamplot.py -> build/lib.linux-x86_64-cpython-310/matplotlib\n",
      "  \u001b[31m   \u001b[0m copying lib/matplotlib/table.py -> build/lib.linux-x86_64-cpython-310/matplotlib\n",
      "  \u001b[31m   \u001b[0m copying lib/matplotlib/texmanager.py -> build/lib.linux-x86_64-cpython-310/matplotlib\n",
      "  \u001b[31m   \u001b[0m copying lib/matplotlib/text.py -> build/lib.linux-x86_64-cpython-310/matplotlib\n",
      "  \u001b[31m   \u001b[0m copying lib/matplotlib/textpath.py -> build/lib.linux-x86_64-cpython-310/matplotlib\n",
      "  \u001b[31m   \u001b[0m copying lib/matplotlib/ticker.py -> build/lib.linux-x86_64-cpython-310/matplotlib\n",
      "  \u001b[31m   \u001b[0m copying lib/matplotlib/tight_bbox.py -> build/lib.linux-x86_64-cpython-310/matplotlib\n",
      "  \u001b[31m   \u001b[0m copying lib/matplotlib/tight_layout.py -> build/lib.linux-x86_64-cpython-310/matplotlib\n",
      "  \u001b[31m   \u001b[0m copying lib/matplotlib/transforms.py -> build/lib.linux-x86_64-cpython-310/matplotlib\n",
      "  \u001b[31m   \u001b[0m copying lib/matplotlib/type1font.py -> build/lib.linux-x86_64-cpython-310/matplotlib\n",
      "  \u001b[31m   \u001b[0m copying lib/matplotlib/units.py -> build/lib.linux-x86_64-cpython-310/matplotlib\n",
      "  \u001b[31m   \u001b[0m copying lib/matplotlib/widgets.py -> build/lib.linux-x86_64-cpython-310/matplotlib\n",
      "  \u001b[31m   \u001b[0m creating build/lib.linux-x86_64-cpython-310/mpl_toolkits\n",
      "  \u001b[31m   \u001b[0m copying lib/mpl_toolkits/__init__.py -> build/lib.linux-x86_64-cpython-310/mpl_toolkits\n",
      "  \u001b[31m   \u001b[0m creating build/lib.linux-x86_64-cpython-310/matplotlib/axes\n",
      "  \u001b[31m   \u001b[0m copying lib/matplotlib/axes/__init__.py -> build/lib.linux-x86_64-cpython-310/matplotlib/axes\n",
      "  \u001b[31m   \u001b[0m copying lib/matplotlib/axes/_axes.py -> build/lib.linux-x86_64-cpython-310/matplotlib/axes\n",
      "  \u001b[31m   \u001b[0m copying lib/matplotlib/axes/_base.py -> build/lib.linux-x86_64-cpython-310/matplotlib/axes\n",
      "  \u001b[31m   \u001b[0m copying lib/matplotlib/axes/_secondary_axes.py -> build/lib.linux-x86_64-cpython-310/matplotlib/axes\n",
      "  \u001b[31m   \u001b[0m copying lib/matplotlib/axes/_subplots.py -> build/lib.linux-x86_64-cpython-310/matplotlib/axes\n",
      "  \u001b[31m   \u001b[0m creating build/lib.linux-x86_64-cpython-310/matplotlib/backends\n",
      "  \u001b[31m   \u001b[0m copying lib/matplotlib/backends/__init__.py -> build/lib.linux-x86_64-cpython-310/matplotlib/backends\n",
      "  \u001b[31m   \u001b[0m copying lib/matplotlib/backends/_backend_pdf_ps.py -> build/lib.linux-x86_64-cpython-310/matplotlib/backends\n",
      "  \u001b[31m   \u001b[0m copying lib/matplotlib/backends/_backend_tk.py -> build/lib.linux-x86_64-cpython-310/matplotlib/backends\n",
      "  \u001b[31m   \u001b[0m copying lib/matplotlib/backends/backend_agg.py -> build/lib.linux-x86_64-cpython-310/matplotlib/backends\n",
      "  \u001b[31m   \u001b[0m copying lib/matplotlib/backends/backend_cairo.py -> build/lib.linux-x86_64-cpython-310/matplotlib/backends\n",
      "  \u001b[31m   \u001b[0m copying lib/matplotlib/backends/backend_gtk3.py -> build/lib.linux-x86_64-cpython-310/matplotlib/backends\n",
      "  \u001b[31m   \u001b[0m copying lib/matplotlib/backends/backend_gtk3agg.py -> build/lib.linux-x86_64-cpython-310/matplotlib/backends\n",
      "  \u001b[31m   \u001b[0m copying lib/matplotlib/backends/backend_gtk3cairo.py -> build/lib.linux-x86_64-cpython-310/matplotlib/backends\n",
      "  \u001b[31m   \u001b[0m copying lib/matplotlib/backends/backend_macosx.py -> build/lib.linux-x86_64-cpython-310/matplotlib/backends\n",
      "  \u001b[31m   \u001b[0m copying lib/matplotlib/backends/backend_mixed.py -> build/lib.linux-x86_64-cpython-310/matplotlib/backends\n",
      "  \u001b[31m   \u001b[0m copying lib/matplotlib/backends/backend_nbagg.py -> build/lib.linux-x86_64-cpython-310/matplotlib/backends\n",
      "  \u001b[31m   \u001b[0m copying lib/matplotlib/backends/backend_pdf.py -> build/lib.linux-x86_64-cpython-310/matplotlib/backends\n",
      "  \u001b[31m   \u001b[0m copying lib/matplotlib/backends/backend_pgf.py -> build/lib.linux-x86_64-cpython-310/matplotlib/backends\n",
      "  \u001b[31m   \u001b[0m copying lib/matplotlib/backends/backend_ps.py -> build/lib.linux-x86_64-cpython-310/matplotlib/backends\n",
      "  \u001b[31m   \u001b[0m copying lib/matplotlib/backends/backend_qt4.py -> build/lib.linux-x86_64-cpython-310/matplotlib/backends\n",
      "  \u001b[31m   \u001b[0m copying lib/matplotlib/backends/backend_qt4agg.py -> build/lib.linux-x86_64-cpython-310/matplotlib/backends\n",
      "  \u001b[31m   \u001b[0m copying lib/matplotlib/backends/backend_qt4cairo.py -> build/lib.linux-x86_64-cpython-310/matplotlib/backends\n",
      "  \u001b[31m   \u001b[0m copying lib/matplotlib/backends/backend_qt5.py -> build/lib.linux-x86_64-cpython-310/matplotlib/backends\n",
      "  \u001b[31m   \u001b[0m copying lib/matplotlib/backends/backend_qt5agg.py -> build/lib.linux-x86_64-cpython-310/matplotlib/backends\n",
      "  \u001b[31m   \u001b[0m copying lib/matplotlib/backends/backend_qt5cairo.py -> build/lib.linux-x86_64-cpython-310/matplotlib/backends\n",
      "  \u001b[31m   \u001b[0m copying lib/matplotlib/backends/backend_svg.py -> build/lib.linux-x86_64-cpython-310/matplotlib/backends\n",
      "  \u001b[31m   \u001b[0m copying lib/matplotlib/backends/backend_template.py -> build/lib.linux-x86_64-cpython-310/matplotlib/backends\n",
      "  \u001b[31m   \u001b[0m copying lib/matplotlib/backends/backend_tkagg.py -> build/lib.linux-x86_64-cpython-310/matplotlib/backends\n",
      "  \u001b[31m   \u001b[0m copying lib/matplotlib/backends/backend_tkcairo.py -> build/lib.linux-x86_64-cpython-310/matplotlib/backends\n",
      "  \u001b[31m   \u001b[0m copying lib/matplotlib/backends/backend_webagg.py -> build/lib.linux-x86_64-cpython-310/matplotlib/backends\n",
      "  \u001b[31m   \u001b[0m copying lib/matplotlib/backends/backend_webagg_core.py -> build/lib.linux-x86_64-cpython-310/matplotlib/backends\n",
      "  \u001b[31m   \u001b[0m copying lib/matplotlib/backends/backend_wx.py -> build/lib.linux-x86_64-cpython-310/matplotlib/backends\n",
      "  \u001b[31m   \u001b[0m copying lib/matplotlib/backends/backend_wxagg.py -> build/lib.linux-x86_64-cpython-310/matplotlib/backends\n",
      "  \u001b[31m   \u001b[0m copying lib/matplotlib/backends/backend_wxcairo.py -> build/lib.linux-x86_64-cpython-310/matplotlib/backends\n",
      "  \u001b[31m   \u001b[0m copying lib/matplotlib/backends/qt_compat.py -> build/lib.linux-x86_64-cpython-310/matplotlib/backends\n",
      "  \u001b[31m   \u001b[0m copying lib/matplotlib/backends/tkagg.py -> build/lib.linux-x86_64-cpython-310/matplotlib/backends\n",
      "  \u001b[31m   \u001b[0m copying lib/matplotlib/backends/windowing.py -> build/lib.linux-x86_64-cpython-310/matplotlib/backends\n",
      "  \u001b[31m   \u001b[0m copying lib/matplotlib/backends/wx_compat.py -> build/lib.linux-x86_64-cpython-310/matplotlib/backends\n",
      "  \u001b[31m   \u001b[0m creating build/lib.linux-x86_64-cpython-310/matplotlib/cbook\n",
      "  \u001b[31m   \u001b[0m copying lib/matplotlib/cbook/__init__.py -> build/lib.linux-x86_64-cpython-310/matplotlib/cbook\n",
      "  \u001b[31m   \u001b[0m copying lib/matplotlib/cbook/deprecation.py -> build/lib.linux-x86_64-cpython-310/matplotlib/cbook\n",
      "  \u001b[31m   \u001b[0m creating build/lib.linux-x86_64-cpython-310/matplotlib/compat\n",
      "  \u001b[31m   \u001b[0m copying lib/matplotlib/compat/__init__.py -> build/lib.linux-x86_64-cpython-310/matplotlib/compat\n",
      "  \u001b[31m   \u001b[0m copying lib/matplotlib/compat/subprocess.py -> build/lib.linux-x86_64-cpython-310/matplotlib/compat\n",
      "  \u001b[31m   \u001b[0m creating build/lib.linux-x86_64-cpython-310/matplotlib/projections\n",
      "  \u001b[31m   \u001b[0m copying lib/matplotlib/projections/__init__.py -> build/lib.linux-x86_64-cpython-310/matplotlib/projections\n",
      "  \u001b[31m   \u001b[0m copying lib/matplotlib/projections/geo.py -> build/lib.linux-x86_64-cpython-310/matplotlib/projections\n",
      "  \u001b[31m   \u001b[0m copying lib/matplotlib/projections/polar.py -> build/lib.linux-x86_64-cpython-310/matplotlib/projections\n",
      "  \u001b[31m   \u001b[0m creating build/lib.linux-x86_64-cpython-310/matplotlib/sphinxext\n",
      "  \u001b[31m   \u001b[0m copying lib/matplotlib/sphinxext/__init__.py -> build/lib.linux-x86_64-cpython-310/matplotlib/sphinxext\n",
      "  \u001b[31m   \u001b[0m copying lib/matplotlib/sphinxext/mathmpl.py -> build/lib.linux-x86_64-cpython-310/matplotlib/sphinxext\n",
      "  \u001b[31m   \u001b[0m copying lib/matplotlib/sphinxext/plot_directive.py -> build/lib.linux-x86_64-cpython-310/matplotlib/sphinxext\n",
      "  \u001b[31m   \u001b[0m creating build/lib.linux-x86_64-cpython-310/matplotlib/style\n",
      "  \u001b[31m   \u001b[0m copying lib/matplotlib/style/__init__.py -> build/lib.linux-x86_64-cpython-310/matplotlib/style\n",
      "  \u001b[31m   \u001b[0m copying lib/matplotlib/style/core.py -> build/lib.linux-x86_64-cpython-310/matplotlib/style\n",
      "  \u001b[31m   \u001b[0m creating build/lib.linux-x86_64-cpython-310/matplotlib/testing\n",
      "  \u001b[31m   \u001b[0m copying lib/matplotlib/testing/__init__.py -> build/lib.linux-x86_64-cpython-310/matplotlib/testing\n",
      "  \u001b[31m   \u001b[0m copying lib/matplotlib/testing/compare.py -> build/lib.linux-x86_64-cpython-310/matplotlib/testing\n",
      "  \u001b[31m   \u001b[0m copying lib/matplotlib/testing/conftest.py -> build/lib.linux-x86_64-cpython-310/matplotlib/testing\n",
      "  \u001b[31m   \u001b[0m copying lib/matplotlib/testing/decorators.py -> build/lib.linux-x86_64-cpython-310/matplotlib/testing\n",
      "  \u001b[31m   \u001b[0m copying lib/matplotlib/testing/determinism.py -> build/lib.linux-x86_64-cpython-310/matplotlib/testing\n",
      "  \u001b[31m   \u001b[0m copying lib/matplotlib/testing/disable_internet.py -> build/lib.linux-x86_64-cpython-310/matplotlib/testing\n",
      "  \u001b[31m   \u001b[0m copying lib/matplotlib/testing/exceptions.py -> build/lib.linux-x86_64-cpython-310/matplotlib/testing\n",
      "  \u001b[31m   \u001b[0m creating build/lib.linux-x86_64-cpython-310/matplotlib/tri\n",
      "  \u001b[31m   \u001b[0m copying lib/matplotlib/tri/__init__.py -> build/lib.linux-x86_64-cpython-310/matplotlib/tri\n",
      "  \u001b[31m   \u001b[0m copying lib/matplotlib/tri/triangulation.py -> build/lib.linux-x86_64-cpython-310/matplotlib/tri\n",
      "  \u001b[31m   \u001b[0m copying lib/matplotlib/tri/tricontour.py -> build/lib.linux-x86_64-cpython-310/matplotlib/tri\n",
      "  \u001b[31m   \u001b[0m copying lib/matplotlib/tri/trifinder.py -> build/lib.linux-x86_64-cpython-310/matplotlib/tri\n",
      "  \u001b[31m   \u001b[0m copying lib/matplotlib/tri/triinterpolate.py -> build/lib.linux-x86_64-cpython-310/matplotlib/tri\n",
      "  \u001b[31m   \u001b[0m copying lib/matplotlib/tri/tripcolor.py -> build/lib.linux-x86_64-cpython-310/matplotlib/tri\n",
      "  \u001b[31m   \u001b[0m copying lib/matplotlib/tri/triplot.py -> build/lib.linux-x86_64-cpython-310/matplotlib/tri\n",
      "  \u001b[31m   \u001b[0m copying lib/matplotlib/tri/trirefine.py -> build/lib.linux-x86_64-cpython-310/matplotlib/tri\n",
      "  \u001b[31m   \u001b[0m copying lib/matplotlib/tri/tritools.py -> build/lib.linux-x86_64-cpython-310/matplotlib/tri\n",
      "  \u001b[31m   \u001b[0m creating build/lib.linux-x86_64-cpython-310/matplotlib/backends/qt_editor\n",
      "  \u001b[31m   \u001b[0m copying lib/matplotlib/backends/qt_editor/__init__.py -> build/lib.linux-x86_64-cpython-310/matplotlib/backends/qt_editor\n",
      "  \u001b[31m   \u001b[0m copying lib/matplotlib/backends/qt_editor/_formlayout.py -> build/lib.linux-x86_64-cpython-310/matplotlib/backends/qt_editor\n",
      "  \u001b[31m   \u001b[0m copying lib/matplotlib/backends/qt_editor/figureoptions.py -> build/lib.linux-x86_64-cpython-310/matplotlib/backends/qt_editor\n",
      "  \u001b[31m   \u001b[0m copying lib/matplotlib/backends/qt_editor/formlayout.py -> build/lib.linux-x86_64-cpython-310/matplotlib/backends/qt_editor\n",
      "  \u001b[31m   \u001b[0m copying lib/matplotlib/backends/qt_editor/formsubplottool.py -> build/lib.linux-x86_64-cpython-310/matplotlib/backends/qt_editor\n",
      "  \u001b[31m   \u001b[0m creating build/lib.linux-x86_64-cpython-310/matplotlib/testing/jpl_units\n",
      "  \u001b[31m   \u001b[0m copying lib/matplotlib/testing/jpl_units/Duration.py -> build/lib.linux-x86_64-cpython-310/matplotlib/testing/jpl_units\n",
      "  \u001b[31m   \u001b[0m copying lib/matplotlib/testing/jpl_units/Epoch.py -> build/lib.linux-x86_64-cpython-310/matplotlib/testing/jpl_units\n",
      "  \u001b[31m   \u001b[0m copying lib/matplotlib/testing/jpl_units/EpochConverter.py -> build/lib.linux-x86_64-cpython-310/matplotlib/testing/jpl_units\n",
      "  \u001b[31m   \u001b[0m copying lib/matplotlib/testing/jpl_units/StrConverter.py -> build/lib.linux-x86_64-cpython-310/matplotlib/testing/jpl_units\n",
      "  \u001b[31m   \u001b[0m copying lib/matplotlib/testing/jpl_units/UnitDbl.py -> build/lib.linux-x86_64-cpython-310/matplotlib/testing/jpl_units\n",
      "  \u001b[31m   \u001b[0m copying lib/matplotlib/testing/jpl_units/UnitDblConverter.py -> build/lib.linux-x86_64-cpython-310/matplotlib/testing/jpl_units\n",
      "  \u001b[31m   \u001b[0m copying lib/matplotlib/testing/jpl_units/UnitDblFormatter.py -> build/lib.linux-x86_64-cpython-310/matplotlib/testing/jpl_units\n",
      "  \u001b[31m   \u001b[0m copying lib/matplotlib/testing/jpl_units/__init__.py -> build/lib.linux-x86_64-cpython-310/matplotlib/testing/jpl_units\n",
      "  \u001b[31m   \u001b[0m creating build/lib.linux-x86_64-cpython-310/mpl_toolkits/axes_grid\n",
      "  \u001b[31m   \u001b[0m copying lib/mpl_toolkits/axes_grid/__init__.py -> build/lib.linux-x86_64-cpython-310/mpl_toolkits/axes_grid\n",
      "  \u001b[31m   \u001b[0m copying lib/mpl_toolkits/axes_grid/anchored_artists.py -> build/lib.linux-x86_64-cpython-310/mpl_toolkits/axes_grid\n",
      "  \u001b[31m   \u001b[0m copying lib/mpl_toolkits/axes_grid/angle_helper.py -> build/lib.linux-x86_64-cpython-310/mpl_toolkits/axes_grid\n",
      "  \u001b[31m   \u001b[0m copying lib/mpl_toolkits/axes_grid/axes_divider.py -> build/lib.linux-x86_64-cpython-310/mpl_toolkits/axes_grid\n",
      "  \u001b[31m   \u001b[0m copying lib/mpl_toolkits/axes_grid/axes_grid.py -> build/lib.linux-x86_64-cpython-310/mpl_toolkits/axes_grid\n",
      "  \u001b[31m   \u001b[0m copying lib/mpl_toolkits/axes_grid/axes_rgb.py -> build/lib.linux-x86_64-cpython-310/mpl_toolkits/axes_grid\n",
      "  \u001b[31m   \u001b[0m copying lib/mpl_toolkits/axes_grid/axes_size.py -> build/lib.linux-x86_64-cpython-310/mpl_toolkits/axes_grid\n",
      "  \u001b[31m   \u001b[0m copying lib/mpl_toolkits/axes_grid/axis_artist.py -> build/lib.linux-x86_64-cpython-310/mpl_toolkits/axes_grid\n",
      "  \u001b[31m   \u001b[0m copying lib/mpl_toolkits/axes_grid/axisline_style.py -> build/lib.linux-x86_64-cpython-310/mpl_toolkits/axes_grid\n",
      "  \u001b[31m   \u001b[0m copying lib/mpl_toolkits/axes_grid/axislines.py -> build/lib.linux-x86_64-cpython-310/mpl_toolkits/axes_grid\n",
      "  \u001b[31m   \u001b[0m copying lib/mpl_toolkits/axes_grid/clip_path.py -> build/lib.linux-x86_64-cpython-310/mpl_toolkits/axes_grid\n",
      "  \u001b[31m   \u001b[0m copying lib/mpl_toolkits/axes_grid/colorbar.py -> build/lib.linux-x86_64-cpython-310/mpl_toolkits/axes_grid\n",
      "  \u001b[31m   \u001b[0m copying lib/mpl_toolkits/axes_grid/floating_axes.py -> build/lib.linux-x86_64-cpython-310/mpl_toolkits/axes_grid\n",
      "  \u001b[31m   \u001b[0m copying lib/mpl_toolkits/axes_grid/grid_finder.py -> build/lib.linux-x86_64-cpython-310/mpl_toolkits/axes_grid\n",
      "  \u001b[31m   \u001b[0m copying lib/mpl_toolkits/axes_grid/grid_helper_curvelinear.py -> build/lib.linux-x86_64-cpython-310/mpl_toolkits/axes_grid\n",
      "  \u001b[31m   \u001b[0m copying lib/mpl_toolkits/axes_grid/inset_locator.py -> build/lib.linux-x86_64-cpython-310/mpl_toolkits/axes_grid\n",
      "  \u001b[31m   \u001b[0m copying lib/mpl_toolkits/axes_grid/parasite_axes.py -> build/lib.linux-x86_64-cpython-310/mpl_toolkits/axes_grid\n",
      "  \u001b[31m   \u001b[0m creating build/lib.linux-x86_64-cpython-310/mpl_toolkits/axes_grid1\n",
      "  \u001b[31m   \u001b[0m copying lib/mpl_toolkits/axes_grid1/__init__.py -> build/lib.linux-x86_64-cpython-310/mpl_toolkits/axes_grid1\n",
      "  \u001b[31m   \u001b[0m copying lib/mpl_toolkits/axes_grid1/anchored_artists.py -> build/lib.linux-x86_64-cpython-310/mpl_toolkits/axes_grid1\n",
      "  \u001b[31m   \u001b[0m copying lib/mpl_toolkits/axes_grid1/axes_divider.py -> build/lib.linux-x86_64-cpython-310/mpl_toolkits/axes_grid1\n",
      "  \u001b[31m   \u001b[0m copying lib/mpl_toolkits/axes_grid1/axes_grid.py -> build/lib.linux-x86_64-cpython-310/mpl_toolkits/axes_grid1\n",
      "  \u001b[31m   \u001b[0m copying lib/mpl_toolkits/axes_grid1/axes_rgb.py -> build/lib.linux-x86_64-cpython-310/mpl_toolkits/axes_grid1\n",
      "  \u001b[31m   \u001b[0m copying lib/mpl_toolkits/axes_grid1/axes_size.py -> build/lib.linux-x86_64-cpython-310/mpl_toolkits/axes_grid1\n",
      "  \u001b[31m   \u001b[0m copying lib/mpl_toolkits/axes_grid1/colorbar.py -> build/lib.linux-x86_64-cpython-310/mpl_toolkits/axes_grid1\n",
      "  \u001b[31m   \u001b[0m copying lib/mpl_toolkits/axes_grid1/inset_locator.py -> build/lib.linux-x86_64-cpython-310/mpl_toolkits/axes_grid1\n",
      "  \u001b[31m   \u001b[0m copying lib/mpl_toolkits/axes_grid1/mpl_axes.py -> build/lib.linux-x86_64-cpython-310/mpl_toolkits/axes_grid1\n",
      "  \u001b[31m   \u001b[0m copying lib/mpl_toolkits/axes_grid1/parasite_axes.py -> build/lib.linux-x86_64-cpython-310/mpl_toolkits/axes_grid1\n",
      "  \u001b[31m   \u001b[0m creating build/lib.linux-x86_64-cpython-310/mpl_toolkits/axisartist\n",
      "  \u001b[31m   \u001b[0m copying lib/mpl_toolkits/axisartist/__init__.py -> build/lib.linux-x86_64-cpython-310/mpl_toolkits/axisartist\n",
      "  \u001b[31m   \u001b[0m copying lib/mpl_toolkits/axisartist/angle_helper.py -> build/lib.linux-x86_64-cpython-310/mpl_toolkits/axisartist\n",
      "  \u001b[31m   \u001b[0m copying lib/mpl_toolkits/axisartist/axes_divider.py -> build/lib.linux-x86_64-cpython-310/mpl_toolkits/axisartist\n",
      "  \u001b[31m   \u001b[0m copying lib/mpl_toolkits/axisartist/axes_grid.py -> build/lib.linux-x86_64-cpython-310/mpl_toolkits/axisartist\n",
      "  \u001b[31m   \u001b[0m copying lib/mpl_toolkits/axisartist/axes_rgb.py -> build/lib.linux-x86_64-cpython-310/mpl_toolkits/axisartist\n",
      "  \u001b[31m   \u001b[0m copying lib/mpl_toolkits/axisartist/axis_artist.py -> build/lib.linux-x86_64-cpython-310/mpl_toolkits/axisartist\n",
      "  \u001b[31m   \u001b[0m copying lib/mpl_toolkits/axisartist/axisline_style.py -> build/lib.linux-x86_64-cpython-310/mpl_toolkits/axisartist\n",
      "  \u001b[31m   \u001b[0m copying lib/mpl_toolkits/axisartist/axislines.py -> build/lib.linux-x86_64-cpython-310/mpl_toolkits/axisartist\n",
      "  \u001b[31m   \u001b[0m copying lib/mpl_toolkits/axisartist/clip_path.py -> build/lib.linux-x86_64-cpython-310/mpl_toolkits/axisartist\n",
      "  \u001b[31m   \u001b[0m copying lib/mpl_toolkits/axisartist/floating_axes.py -> build/lib.linux-x86_64-cpython-310/mpl_toolkits/axisartist\n",
      "  \u001b[31m   \u001b[0m copying lib/mpl_toolkits/axisartist/grid_finder.py -> build/lib.linux-x86_64-cpython-310/mpl_toolkits/axisartist\n",
      "  \u001b[31m   \u001b[0m copying lib/mpl_toolkits/axisartist/grid_helper_curvelinear.py -> build/lib.linux-x86_64-cpython-310/mpl_toolkits/axisartist\n",
      "  \u001b[31m   \u001b[0m copying lib/mpl_toolkits/axisartist/parasite_axes.py -> build/lib.linux-x86_64-cpython-310/mpl_toolkits/axisartist\n",
      "  \u001b[31m   \u001b[0m creating build/lib.linux-x86_64-cpython-310/mpl_toolkits/mplot3d\n",
      "  \u001b[31m   \u001b[0m copying lib/mpl_toolkits/mplot3d/__init__.py -> build/lib.linux-x86_64-cpython-310/mpl_toolkits/mplot3d\n",
      "  \u001b[31m   \u001b[0m copying lib/mpl_toolkits/mplot3d/art3d.py -> build/lib.linux-x86_64-cpython-310/mpl_toolkits/mplot3d\n",
      "  \u001b[31m   \u001b[0m copying lib/mpl_toolkits/mplot3d/axes3d.py -> build/lib.linux-x86_64-cpython-310/mpl_toolkits/mplot3d\n",
      "  \u001b[31m   \u001b[0m copying lib/mpl_toolkits/mplot3d/axis3d.py -> build/lib.linux-x86_64-cpython-310/mpl_toolkits/mplot3d\n",
      "  \u001b[31m   \u001b[0m copying lib/mpl_toolkits/mplot3d/proj3d.py -> build/lib.linux-x86_64-cpython-310/mpl_toolkits/mplot3d\n",
      "  \u001b[31m   \u001b[0m creating build/lib.linux-x86_64-cpython-310/matplotlib/mpl-data\n",
      "  \u001b[31m   \u001b[0m creating build/lib.linux-x86_64-cpython-310/matplotlib/mpl-data/fonts\n",
      "  \u001b[31m   \u001b[0m creating build/lib.linux-x86_64-cpython-310/matplotlib/mpl-data/fonts/afm\n",
      "  \u001b[31m   \u001b[0m copying lib/matplotlib/mpl-data/fonts/afm/pcrr8a.afm -> build/lib.linux-x86_64-cpython-310/matplotlib/mpl-data/fonts/afm\n",
      "  \u001b[31m   \u001b[0m creating build/lib.linux-x86_64-cpython-310/matplotlib/mpl-data/images\n",
      "  \u001b[31m   \u001b[0m copying lib/matplotlib/mpl-data/images/hand.gif -> build/lib.linux-x86_64-cpython-310/matplotlib/mpl-data/images\n",
      "  \u001b[31m   \u001b[0m creating build/lib.linux-x86_64-cpython-310/matplotlib/mpl-data/fonts/ttf\n",
      "  \u001b[31m   \u001b[0m copying lib/matplotlib/mpl-data/fonts/ttf/DejaVuSansDisplay.ttf -> build/lib.linux-x86_64-cpython-310/matplotlib/mpl-data/fonts/ttf\n",
      "  \u001b[31m   \u001b[0m creating build/lib.linux-x86_64-cpython-310/matplotlib/backends/web_backend\n",
      "  \u001b[31m   \u001b[0m creating build/lib.linux-x86_64-cpython-310/matplotlib/backends/web_backend/jquery-ui-1.12.1\n",
      "  \u001b[31m   \u001b[0m copying lib/matplotlib/backends/web_backend/jquery-ui-1.12.1/LICENSE.txt -> build/lib.linux-x86_64-cpython-310/matplotlib/backends/web_backend/jquery-ui-1.12.1\n",
      "  \u001b[31m   \u001b[0m creating build/lib.linux-x86_64-cpython-310/matplotlib/backends/web_backend/jquery-ui-1.12.1/images\n",
      "  \u001b[31m   \u001b[0m copying lib/matplotlib/backends/web_backend/jquery-ui-1.12.1/images/ui-icons_cc0000_256x240.png -> build/lib.linux-x86_64-cpython-310/matplotlib/backends/web_backend/jquery-ui-1.12.1/images\n",
      "  \u001b[31m   \u001b[0m copying lib/matplotlib/mpl-data/fonts/afm/phvbo8a.afm -> build/lib.linux-x86_64-cpython-310/matplotlib/mpl-data/fonts/afm\n",
      "  \u001b[31m   \u001b[0m copying lib/matplotlib/backends/web_backend/all_figures.html -> build/lib.linux-x86_64-cpython-310/matplotlib/backends/web_backend\n",
      "  \u001b[31m   \u001b[0m creating build/lib.linux-x86_64-cpython-310/matplotlib/mpl-data/sample_data\n",
      "  \u001b[31m   \u001b[0m copying lib/matplotlib/mpl-data/sample_data/grace_hopper.jpg -> build/lib.linux-x86_64-cpython-310/matplotlib/mpl-data/sample_data\n",
      "  \u001b[31m   \u001b[0m creating build/lib.linux-x86_64-cpython-310/matplotlib/mpl-data/fonts/pdfcorefonts\n",
      "  \u001b[31m   \u001b[0m copying lib/matplotlib/mpl-data/fonts/pdfcorefonts/Courier-Bold.afm -> build/lib.linux-x86_64-cpython-310/matplotlib/mpl-data/fonts/pdfcorefonts\n",
      "  \u001b[31m   \u001b[0m copying lib/matplotlib/mpl-data/images/zoom_to_rect.svg -> build/lib.linux-x86_64-cpython-310/matplotlib/mpl-data/images\n",
      "  \u001b[31m   \u001b[0m copying lib/matplotlib/mpl-data/fonts/pdfcorefonts/Helvetica.afm -> build/lib.linux-x86_64-cpython-310/matplotlib/mpl-data/fonts/pdfcorefonts\n",
      "  \u001b[31m   \u001b[0m copying lib/matplotlib/mpl-data/fonts/ttf/STIXSizFourSymReg.ttf -> build/lib.linux-x86_64-cpython-310/matplotlib/mpl-data/fonts/ttf\n",
      "  \u001b[31m   \u001b[0m creating build/lib.linux-x86_64-cpython-310/matplotlib/mpl-data/stylelib\n",
      "  \u001b[31m   \u001b[0m copying lib/matplotlib/mpl-data/stylelib/seaborn-talk.mplstyle -> build/lib.linux-x86_64-cpython-310/matplotlib/mpl-data/stylelib\n",
      "  \u001b[31m   \u001b[0m copying lib/matplotlib/backends/web_backend/nbagg_uat.ipynb -> build/lib.linux-x86_64-cpython-310/matplotlib/backends/web_backend\n",
      "  \u001b[31m   \u001b[0m copying lib/matplotlib/mpl-data/fonts/pdfcorefonts/Helvetica-BoldOblique.afm -> build/lib.linux-x86_64-cpython-310/matplotlib/mpl-data/fonts/pdfcorefonts\n",
      "  \u001b[31m   \u001b[0m copying lib/matplotlib/mpl-data/fonts/pdfcorefonts/readme.txt -> build/lib.linux-x86_64-cpython-310/matplotlib/mpl-data/fonts/pdfcorefonts\n",
      "  \u001b[31m   \u001b[0m copying lib/matplotlib/mpl-data/fonts/afm/pplb8a.afm -> build/lib.linux-x86_64-cpython-310/matplotlib/mpl-data/fonts/afm\n",
      "  \u001b[31m   \u001b[0m copying lib/matplotlib/mpl-data/images/forward_large.png -> build/lib.linux-x86_64-cpython-310/matplotlib/mpl-data/images\n",
      "  \u001b[31m   \u001b[0m copying lib/matplotlib/mpl-data/fonts/ttf/STIXGeneralBol.ttf -> build/lib.linux-x86_64-cpython-310/matplotlib/mpl-data/fonts/ttf\n",
      "  \u001b[31m   \u001b[0m copying lib/matplotlib/backends/web_backend/jquery-ui-1.12.1/images/ui-icons_777777_256x240.png -> build/lib.linux-x86_64-cpython-310/matplotlib/backends/web_backend/jquery-ui-1.12.1/images\n",
      "  \u001b[31m   \u001b[0m copying lib/matplotlib/mpl-data/matplotlibrc -> build/lib.linux-x86_64-cpython-310/matplotlib/mpl-data\n",
      "  \u001b[31m   \u001b[0m copying lib/matplotlib/mpl-data/fonts/afm/ptmri8a.afm -> build/lib.linux-x86_64-cpython-310/matplotlib/mpl-data/fonts/afm\n",
      "  \u001b[31m   \u001b[0m copying lib/matplotlib/mpl-data/images/subplots.svg -> build/lib.linux-x86_64-cpython-310/matplotlib/mpl-data/images\n",
      "  \u001b[31m   \u001b[0m copying lib/matplotlib/mpl-data/stylelib/seaborn-paper.mplstyle -> build/lib.linux-x86_64-cpython-310/matplotlib/mpl-data/stylelib\n",
      "  \u001b[31m   \u001b[0m copying lib/matplotlib/mpl-data/fonts/afm/pagko8a.afm -> build/lib.linux-x86_64-cpython-310/matplotlib/mpl-data/fonts/afm\n",
      "  \u001b[31m   \u001b[0m creating build/lib.linux-x86_64-cpython-310/matplotlib/backends/web_backend/js\n",
      "  \u001b[31m   \u001b[0m copying lib/matplotlib/backends/web_backend/js/nbagg_mpl.js -> build/lib.linux-x86_64-cpython-310/matplotlib/backends/web_backend/js\n",
      "  \u001b[31m   \u001b[0m copying lib/matplotlib/mpl-data/fonts/ttf/DejaVuSerif-Bold.ttf -> build/lib.linux-x86_64-cpython-310/matplotlib/mpl-data/fonts/ttf\n",
      "  \u001b[31m   \u001b[0m copying lib/matplotlib/mpl-data/stylelib/seaborn-darkgrid.mplstyle -> build/lib.linux-x86_64-cpython-310/matplotlib/mpl-data/stylelib\n",
      "  \u001b[31m   \u001b[0m copying lib/matplotlib/mpl-data/images/filesave_large.png -> build/lib.linux-x86_64-cpython-310/matplotlib/mpl-data/images\n",
      "  \u001b[31m   \u001b[0m copying lib/matplotlib/mpl-data/fonts/ttf/LICENSE_STIX -> build/lib.linux-x86_64-cpython-310/matplotlib/mpl-data/fonts/ttf\n",
      "  \u001b[31m   \u001b[0m copying lib/matplotlib/mpl-data/fonts/afm/pplbi8a.afm -> build/lib.linux-x86_64-cpython-310/matplotlib/mpl-data/fonts/afm\n",
      "  \u001b[31m   \u001b[0m copying lib/matplotlib/mpl-data/stylelib/seaborn-dark.mplstyle -> build/lib.linux-x86_64-cpython-310/matplotlib/mpl-data/stylelib\n",
      "  \u001b[31m   \u001b[0m copying lib/matplotlib/backends/web_backend/jquery-ui-1.12.1/jquery-ui.theme.min.css -> build/lib.linux-x86_64-cpython-310/matplotlib/backends/web_backend/jquery-ui-1.12.1\n",
      "  \u001b[31m   \u001b[0m copying lib/matplotlib/mpl-data/sample_data/topobathy.npz -> build/lib.linux-x86_64-cpython-310/matplotlib/mpl-data/sample_data\n",
      "  \u001b[31m   \u001b[0m copying lib/matplotlib/mpl-data/images/back_large.gif -> build/lib.linux-x86_64-cpython-310/matplotlib/mpl-data/images\n",
      "  \u001b[31m   \u001b[0m copying lib/matplotlib/mpl-data/images/matplotlib.ppm -> build/lib.linux-x86_64-cpython-310/matplotlib/mpl-data/images\n",
      "  \u001b[31m   \u001b[0m copying lib/matplotlib/mpl-data/fonts/ttf/DejaVuSans.ttf -> build/lib.linux-x86_64-cpython-310/matplotlib/mpl-data/fonts/ttf\n",
      "  \u001b[31m   \u001b[0m copying lib/matplotlib/mpl-data/images/forward.pdf -> build/lib.linux-x86_64-cpython-310/matplotlib/mpl-data/images\n",
      "  \u001b[31m   \u001b[0m copying lib/matplotlib/mpl-data/sample_data/grace_hopper.png -> build/lib.linux-x86_64-cpython-310/matplotlib/mpl-data/sample_data\n",
      "  \u001b[31m   \u001b[0m copying lib/matplotlib/mpl-data/images/forward_large.gif -> build/lib.linux-x86_64-cpython-310/matplotlib/mpl-data/images\n",
      "  \u001b[31m   \u001b[0m copying lib/matplotlib/mpl-data/images/zoom_to_rect_large.gif -> build/lib.linux-x86_64-cpython-310/matplotlib/mpl-data/images\n",
      "  \u001b[31m   \u001b[0m copying lib/matplotlib/backends/web_backend/jquery-ui-1.12.1/images/ui-icons_444444_256x240.png -> build/lib.linux-x86_64-cpython-310/matplotlib/backends/web_backend/jquery-ui-1.12.1/images\n",
      "  \u001b[31m   \u001b[0m copying lib/matplotlib/backends/web_backend/js/mpl.js -> build/lib.linux-x86_64-cpython-310/matplotlib/backends/web_backend/js\n",
      "  \u001b[31m   \u001b[0m copying lib/matplotlib/mpl-data/images/hand.svg -> build/lib.linux-x86_64-cpython-310/matplotlib/mpl-data/images\n",
      "  \u001b[31m   \u001b[0m copying lib/matplotlib/mpl-data/fonts/afm/pncbi8a.afm -> build/lib.linux-x86_64-cpython-310/matplotlib/mpl-data/fonts/afm\n",
      "  \u001b[31m   \u001b[0m copying lib/matplotlib/mpl-data/fonts/ttf/DejaVuSerif-Italic.ttf -> build/lib.linux-x86_64-cpython-310/matplotlib/mpl-data/fonts/ttf\n",
      "  \u001b[31m   \u001b[0m copying lib/matplotlib/mpl-data/sample_data/aapl.npz -> build/lib.linux-x86_64-cpython-310/matplotlib/mpl-data/sample_data\n",
      "  \u001b[31m   \u001b[0m copying lib/matplotlib/mpl-data/fonts/afm/cmex10.afm -> build/lib.linux-x86_64-cpython-310/matplotlib/mpl-data/fonts/afm\n",
      "  \u001b[31m   \u001b[0m copying lib/matplotlib/mpl-data/fonts/pdfcorefonts/Courier-BoldOblique.afm -> build/lib.linux-x86_64-cpython-310/matplotlib/mpl-data/fonts/pdfcorefonts\n",
      "  \u001b[31m   \u001b[0m copying lib/matplotlib/mpl-data/stylelib/seaborn.mplstyle -> build/lib.linux-x86_64-cpython-310/matplotlib/mpl-data/stylelib\n",
      "  \u001b[31m   \u001b[0m creating build/lib.linux-x86_64-cpython-310/matplotlib/mpl-data/sample_data/axes_grid\n",
      "  \u001b[31m   \u001b[0m copying lib/matplotlib/mpl-data/sample_data/axes_grid/bivariate_normal.npy -> build/lib.linux-x86_64-cpython-310/matplotlib/mpl-data/sample_data/axes_grid\n",
      "  \u001b[31m   \u001b[0m copying lib/matplotlib/mpl-data/images/home_large.png -> build/lib.linux-x86_64-cpython-310/matplotlib/mpl-data/images\n",
      "  \u001b[31m   \u001b[0m copying lib/matplotlib/mpl-data/images/move.gif -> build/lib.linux-x86_64-cpython-310/matplotlib/mpl-data/images\n",
      "  \u001b[31m   \u001b[0m copying lib/matplotlib/mpl-data/images/matplotlib.pdf -> build/lib.linux-x86_64-cpython-310/matplotlib/mpl-data/images\n",
      "  \u001b[31m   \u001b[0m copying lib/matplotlib/mpl-data/images/move_large.gif -> build/lib.linux-x86_64-cpython-310/matplotlib/mpl-data/images\n",
      "  \u001b[31m   \u001b[0m copying lib/matplotlib/mpl-data/stylelib/seaborn-colorblind.mplstyle -> build/lib.linux-x86_64-cpython-310/matplotlib/mpl-data/stylelib\n",
      "  \u001b[31m   \u001b[0m copying lib/matplotlib/backends/web_backend/jquery-ui-1.12.1/jquery-ui.min.js -> build/lib.linux-x86_64-cpython-310/matplotlib/backends/web_backend/jquery-ui-1.12.1\n",
      "  \u001b[31m   \u001b[0m copying lib/matplotlib/mpl-data/images/home.svg -> build/lib.linux-x86_64-cpython-310/matplotlib/mpl-data/images\n",
      "  \u001b[31m   \u001b[0m copying lib/matplotlib/mpl-data/sample_data/msft.csv -> build/lib.linux-x86_64-cpython-310/matplotlib/mpl-data/sample_data\n",
      "  \u001b[31m   \u001b[0m copying lib/matplotlib/mpl-data/sample_data/README.txt -> build/lib.linux-x86_64-cpython-310/matplotlib/mpl-data/sample_data\n",
      "  \u001b[31m   \u001b[0m copying lib/matplotlib/mpl-data/stylelib/seaborn-white.mplstyle -> build/lib.linux-x86_64-cpython-310/matplotlib/mpl-data/stylelib\n",
      "  \u001b[31m   \u001b[0m copying lib/matplotlib/mpl-data/stylelib/seaborn-deep.mplstyle -> build/lib.linux-x86_64-cpython-310/matplotlib/mpl-data/stylelib\n",
      "  \u001b[31m   \u001b[0m copying lib/matplotlib/mpl-data/fonts/afm/phvro8a.afm -> build/lib.linux-x86_64-cpython-310/matplotlib/mpl-data/fonts/afm\n",
      "  \u001b[31m   \u001b[0m copying lib/matplotlib/backends/web_backend/ipython_inline_figure.html -> build/lib.linux-x86_64-cpython-310/matplotlib/backends/web_backend\n",
      "  \u001b[31m   \u001b[0m copying lib/matplotlib/mpl-data/stylelib/seaborn-dark-palette.mplstyle -> build/lib.linux-x86_64-cpython-310/matplotlib/mpl-data/stylelib\n",
      "  \u001b[31m   \u001b[0m copying lib/matplotlib/backends/web_backend/jquery-ui-1.12.1/jquery-ui.min.css -> build/lib.linux-x86_64-cpython-310/matplotlib/backends/web_backend/jquery-ui-1.12.1\n",
      "  \u001b[31m   \u001b[0m copying lib/matplotlib/mpl-data/fonts/afm/phvb8an.afm -> build/lib.linux-x86_64-cpython-310/matplotlib/mpl-data/fonts/afm\n",
      "  \u001b[31m   \u001b[0m copying lib/matplotlib/mpl-data/sample_data/membrane.dat -> build/lib.linux-x86_64-cpython-310/matplotlib/mpl-data/sample_data\n",
      "  \u001b[31m   \u001b[0m copying lib/matplotlib/backends/web_backend/jquery-ui-1.12.1/images/ui-icons_ffffff_256x240.png -> build/lib.linux-x86_64-cpython-310/matplotlib/backends/web_backend/jquery-ui-1.12.1/images\n",
      "  \u001b[31m   \u001b[0m copying lib/matplotlib/backends/web_backend/jquery-ui-1.12.1/jquery-ui.theme.css -> build/lib.linux-x86_64-cpython-310/matplotlib/backends/web_backend/jquery-ui-1.12.1\n",
      "  \u001b[31m   \u001b[0m copying lib/matplotlib/mpl-data/images/forward.gif -> build/lib.linux-x86_64-cpython-310/matplotlib/mpl-data/images\n",
      "  \u001b[31m   \u001b[0m copying lib/matplotlib/mpl-data/fonts/afm/cmtt10.afm -> build/lib.linux-x86_64-cpython-310/matplotlib/mpl-data/fonts/afm\n",
      "  \u001b[31m   \u001b[0m copying lib/matplotlib/mpl-data/fonts/afm/phvr8an.afm -> build/lib.linux-x86_64-cpython-310/matplotlib/mpl-data/fonts/afm\n",
      "  \u001b[31m   \u001b[0m copying lib/matplotlib/mpl-data/fonts/afm/pzcmi8a.afm -> build/lib.linux-x86_64-cpython-310/matplotlib/mpl-data/fonts/afm\n",
      "  \u001b[31m   \u001b[0m copying lib/matplotlib/mpl-data/images/filesave.pdf -> build/lib.linux-x86_64-cpython-310/matplotlib/mpl-data/images\n",
      "  \u001b[31m   \u001b[0m copying lib/matplotlib/mpl-data/fonts/ttf/cmb10.ttf -> build/lib.linux-x86_64-cpython-310/matplotlib/mpl-data/fonts/ttf\n",
      "  \u001b[31m   \u001b[0m copying lib/matplotlib/mpl-data/fonts/afm/pagk8a.afm -> build/lib.linux-x86_64-cpython-310/matplotlib/mpl-data/fonts/afm\n",
      "  \u001b[31m   \u001b[0m copying lib/matplotlib/mpl-data/images/qt4_editor_options.svg -> build/lib.linux-x86_64-cpython-310/matplotlib/mpl-data/images\n",
      "  \u001b[31m   \u001b[0m copying lib/matplotlib/mpl-data/images/hand.pdf -> build/lib.linux-x86_64-cpython-310/matplotlib/mpl-data/images\n",
      "  \u001b[31m   \u001b[0m copying lib/matplotlib/mpl-data/fonts/afm/pbkd8a.afm -> build/lib.linux-x86_64-cpython-310/matplotlib/mpl-data/fonts/afm\n",
      "  \u001b[31m   \u001b[0m copying lib/matplotlib/mpl-data/images/back.pdf -> build/lib.linux-x86_64-cpython-310/matplotlib/mpl-data/images\n",
      "  \u001b[31m   \u001b[0m copying lib/matplotlib/mpl-data/images/matplotlib.svg -> build/lib.linux-x86_64-cpython-310/matplotlib/mpl-data/images\n",
      "  \u001b[31m   \u001b[0m copying lib/matplotlib/mpl-data/fonts/ttf/LICENSE_DEJAVU -> build/lib.linux-x86_64-cpython-310/matplotlib/mpl-data/fonts/ttf\n",
      "  \u001b[31m   \u001b[0m copying lib/matplotlib/mpl-data/images/help.png -> build/lib.linux-x86_64-cpython-310/matplotlib/mpl-data/images\n",
      "  \u001b[31m   \u001b[0m copying lib/matplotlib/mpl-data/fonts/afm/phvro8an.afm -> build/lib.linux-x86_64-cpython-310/matplotlib/mpl-data/fonts/afm\n",
      "  \u001b[31m   \u001b[0m copying lib/matplotlib/mpl-data/sample_data/eeg.dat -> build/lib.linux-x86_64-cpython-310/matplotlib/mpl-data/sample_data\n",
      "  \u001b[31m   \u001b[0m copying lib/matplotlib/mpl-data/stylelib/classic.mplstyle -> build/lib.linux-x86_64-cpython-310/matplotlib/mpl-data/stylelib\n",
      "  \u001b[31m   \u001b[0m copying lib/matplotlib/mpl-data/fonts/ttf/STIXSizThreeSymBol.ttf -> build/lib.linux-x86_64-cpython-310/matplotlib/mpl-data/fonts/ttf\n",
      "  \u001b[31m   \u001b[0m copying lib/matplotlib/mpl-data/images/zoom_to_rect_large.png -> build/lib.linux-x86_64-cpython-310/matplotlib/mpl-data/images\n",
      "  \u001b[31m   \u001b[0m copying lib/matplotlib/mpl-data/images/back.svg -> build/lib.linux-x86_64-cpython-310/matplotlib/mpl-data/images\n",
      "  \u001b[31m   \u001b[0m copying lib/matplotlib/mpl-data/fonts/afm/pbkli8a.afm -> build/lib.linux-x86_64-cpython-310/matplotlib/mpl-data/fonts/afm\n",
      "  \u001b[31m   \u001b[0m copying lib/matplotlib/mpl-data/images/home.pdf -> build/lib.linux-x86_64-cpython-310/matplotlib/mpl-data/images\n",
      "  \u001b[31m   \u001b[0m copying lib/matplotlib/backends/web_backend/jquery-ui-1.12.1/images/ui-icons_777620_256x240.png -> build/lib.linux-x86_64-cpython-310/matplotlib/backends/web_backend/jquery-ui-1.12.1/images\n",
      "  \u001b[31m   \u001b[0m copying lib/matplotlib/mpl-data/fonts/afm/ptmr8a.afm -> build/lib.linux-x86_64-cpython-310/matplotlib/mpl-data/fonts/afm\n",
      "  \u001b[31m   \u001b[0m copying lib/matplotlib/mpl-data/fonts/afm/pcrro8a.afm -> build/lib.linux-x86_64-cpython-310/matplotlib/mpl-data/fonts/afm\n",
      "  \u001b[31m   \u001b[0m copying lib/matplotlib/backends/web_backend/js/mpl_tornado.js -> build/lib.linux-x86_64-cpython-310/matplotlib/backends/web_backend/js\n",
      "  \u001b[31m   \u001b[0m copying lib/matplotlib/mpl-data/fonts/ttf/DejaVuSerif-BoldItalic.ttf -> build/lib.linux-x86_64-cpython-310/matplotlib/mpl-data/fonts/ttf\n",
      "  \u001b[31m   \u001b[0m copying lib/matplotlib/mpl-data/stylelib/seaborn-poster.mplstyle -> build/lib.linux-x86_64-cpython-310/matplotlib/mpl-data/stylelib\n",
      "  \u001b[31m   \u001b[0m copying lib/matplotlib/mpl-data/images/help.pdf -> build/lib.linux-x86_64-cpython-310/matplotlib/mpl-data/images\n",
      "  \u001b[31m   \u001b[0m copying lib/matplotlib/mpl-data/fonts/afm/phvbo8an.afm -> build/lib.linux-x86_64-cpython-310/matplotlib/mpl-data/fonts/afm\n",
      "  \u001b[31m   \u001b[0m copying lib/matplotlib/mpl-data/fonts/ttf/DejaVuSansMono-Oblique.ttf -> build/lib.linux-x86_64-cpython-310/matplotlib/mpl-data/fonts/ttf\n",
      "  \u001b[31m   \u001b[0m copying lib/matplotlib/mpl-data/images/zoom_to_rect.gif -> build/lib.linux-x86_64-cpython-310/matplotlib/mpl-data/images\n",
      "  \u001b[31m   \u001b[0m copying lib/matplotlib/mpl-data/fonts/ttf/cmss10.ttf -> build/lib.linux-x86_64-cpython-310/matplotlib/mpl-data/fonts/ttf\n",
      "  \u001b[31m   \u001b[0m creating build/lib.linux-x86_64-cpython-310/matplotlib/backends/web_backend/css\n",
      "  \u001b[31m   \u001b[0m copying lib/matplotlib/backends/web_backend/css/boilerplate.css -> build/lib.linux-x86_64-cpython-310/matplotlib/backends/web_backend/css\n",
      "  \u001b[31m   \u001b[0m copying lib/matplotlib/mpl-data/images/zoom_to_rect.pdf -> build/lib.linux-x86_64-cpython-310/matplotlib/mpl-data/images\n",
      "  \u001b[31m   \u001b[0m copying lib/matplotlib/backends/web_backend/jquery-ui-1.12.1/index.html -> build/lib.linux-x86_64-cpython-310/matplotlib/backends/web_backend/jquery-ui-1.12.1\n",
      "  \u001b[31m   \u001b[0m copying lib/matplotlib/mpl-data/fonts/ttf/DejaVuSansMono-BoldOblique.ttf -> build/lib.linux-x86_64-cpython-310/matplotlib/mpl-data/fonts/ttf\n",
      "  \u001b[31m   \u001b[0m copying lib/matplotlib/backends/web_backend/jquery-ui-1.12.1/jquery-ui.css -> build/lib.linux-x86_64-cpython-310/matplotlib/backends/web_backend/jquery-ui-1.12.1\n",
      "  \u001b[31m   \u001b[0m copying lib/matplotlib/mpl-data/fonts/pdfcorefonts/Times-Roman.afm -> build/lib.linux-x86_64-cpython-310/matplotlib/mpl-data/fonts/pdfcorefonts\n",
      "  \u001b[31m   \u001b[0m copying lib/matplotlib/mpl-data/sample_data/s1045.ima.gz -> build/lib.linux-x86_64-cpython-310/matplotlib/mpl-data/sample_data\n",
      "  \u001b[31m   \u001b[0m copying lib/matplotlib/mpl-data/images/help.ppm -> build/lib.linux-x86_64-cpython-310/matplotlib/mpl-data/images\n",
      "  \u001b[31m   \u001b[0m copying lib/matplotlib/mpl-data/stylelib/bmh.mplstyle -> build/lib.linux-x86_64-cpython-310/matplotlib/mpl-data/stylelib\n",
      "  \u001b[31m   \u001b[0m copying lib/matplotlib/mpl-data/stylelib/ggplot.mplstyle -> build/lib.linux-x86_64-cpython-310/matplotlib/mpl-data/stylelib\n",
      "  \u001b[31m   \u001b[0m copying lib/matplotlib/mpl-data/fonts/ttf/DejaVuSans-Oblique.ttf -> build/lib.linux-x86_64-cpython-310/matplotlib/mpl-data/fonts/ttf\n",
      "  \u001b[31m   \u001b[0m copying lib/matplotlib/backends/web_backend/css/page.css -> build/lib.linux-x86_64-cpython-310/matplotlib/backends/web_backend/css\n",
      "  \u001b[31m   \u001b[0m copying lib/matplotlib/mpl-data/images/move.svg -> build/lib.linux-x86_64-cpython-310/matplotlib/mpl-data/images\n",
      "  \u001b[31m   \u001b[0m copying lib/matplotlib/mpl-data/fonts/afm/cmmi10.afm -> build/lib.linux-x86_64-cpython-310/matplotlib/mpl-data/fonts/afm\n",
      "  \u001b[31m   \u001b[0m copying lib/matplotlib/mpl-data/images/move.pdf -> build/lib.linux-x86_64-cpython-310/matplotlib/mpl-data/images\n",
      "  \u001b[31m   \u001b[0m copying lib/matplotlib/mpl-data/images/filesave.png -> build/lib.linux-x86_64-cpython-310/matplotlib/mpl-data/images\n",
      "  \u001b[31m   \u001b[0m copying lib/matplotlib/mpl-data/images/qt4_editor_options.pdf -> build/lib.linux-x86_64-cpython-310/matplotlib/mpl-data/images\n",
      "  \u001b[31m   \u001b[0m copying lib/matplotlib/mpl-data/sample_data/None_vs_nearest-pdf.png -> build/lib.linux-x86_64-cpython-310/matplotlib/mpl-data/sample_data\n",
      "  \u001b[31m   \u001b[0m copying lib/matplotlib/mpl-data/fonts/afm/pagdo8a.afm -> build/lib.linux-x86_64-cpython-310/matplotlib/mpl-data/fonts/afm\n",
      "  \u001b[31m   \u001b[0m copying lib/matplotlib/mpl-data/sample_data/embedding_in_wx3.xrc -> build/lib.linux-x86_64-cpython-310/matplotlib/mpl-data/sample_data\n",
      "  \u001b[31m   \u001b[0m copying lib/matplotlib/mpl-data/images/home_large.gif -> build/lib.linux-x86_64-cpython-310/matplotlib/mpl-data/images\n",
      "  \u001b[31m   \u001b[0m copying lib/matplotlib/mpl-data/stylelib/fast.mplstyle -> build/lib.linux-x86_64-cpython-310/matplotlib/mpl-data/stylelib\n",
      "  \u001b[31m   \u001b[0m copying lib/matplotlib/mpl-data/fonts/afm/pplri8a.afm -> build/lib.linux-x86_64-cpython-310/matplotlib/mpl-data/fonts/afm\n",
      "  \u001b[31m   \u001b[0m copying lib/matplotlib/mpl-data/fonts/ttf/cmsy10.ttf -> build/lib.linux-x86_64-cpython-310/matplotlib/mpl-data/fonts/ttf\n",
      "  \u001b[31m   \u001b[0m copying lib/matplotlib/mpl-data/images/subplots_large.gif -> build/lib.linux-x86_64-cpython-310/matplotlib/mpl-data/images\n",
      "  \u001b[31m   \u001b[0m copying lib/matplotlib/mpl-data/fonts/afm/pbkdi8a.afm -> build/lib.linux-x86_64-cpython-310/matplotlib/mpl-data/fonts/afm\n",
      "  \u001b[31m   \u001b[0m copying lib/matplotlib/mpl-data/fonts/afm/putbi8a.afm -> build/lib.linux-x86_64-cpython-310/matplotlib/mpl-data/fonts/afm\n",
      "  \u001b[31m   \u001b[0m copying lib/matplotlib/mpl-data/sample_data/jacksboro_fault_dem.npz -> build/lib.linux-x86_64-cpython-310/matplotlib/mpl-data/sample_data\n",
      "  \u001b[31m   \u001b[0m copying lib/matplotlib/mpl-data/fonts/ttf/STIXSizTwoSymBol.ttf -> build/lib.linux-x86_64-cpython-310/matplotlib/mpl-data/fonts/ttf\n",
      "  \u001b[31m   \u001b[0m copying lib/matplotlib/mpl-data/images/filesave_large.gif -> build/lib.linux-x86_64-cpython-310/matplotlib/mpl-data/images\n",
      "  \u001b[31m   \u001b[0m copying lib/matplotlib/mpl-data/fonts/afm/cmr10.afm -> build/lib.linux-x86_64-cpython-310/matplotlib/mpl-data/fonts/afm\n",
      "  \u001b[31m   \u001b[0m copying lib/matplotlib/mpl-data/fonts/afm/phvlo8a.afm -> build/lib.linux-x86_64-cpython-310/matplotlib/mpl-data/fonts/afm\n",
      "  \u001b[31m   \u001b[0m copying lib/matplotlib/mpl-data/fonts/pdfcorefonts/Symbol.afm -> build/lib.linux-x86_64-cpython-310/matplotlib/mpl-data/fonts/pdfcorefonts\n",
      "  \u001b[31m   \u001b[0m copying lib/matplotlib/mpl-data/fonts/afm/cmsy10.afm -> build/lib.linux-x86_64-cpython-310/matplotlib/mpl-data/fonts/afm\n",
      "  \u001b[31m   \u001b[0m copying lib/matplotlib/mpl-data/images/help_large.png -> build/lib.linux-x86_64-cpython-310/matplotlib/mpl-data/images\n",
      "  \u001b[31m   \u001b[0m copying lib/matplotlib/mpl-data/images/subplots.pdf -> build/lib.linux-x86_64-cpython-310/matplotlib/mpl-data/images\n",
      "  \u001b[31m   \u001b[0m copying lib/matplotlib/mpl-data/fonts/afm/phvb8a.afm -> build/lib.linux-x86_64-cpython-310/matplotlib/mpl-data/fonts/afm\n",
      "  \u001b[31m   \u001b[0m copying lib/matplotlib/mpl-data/fonts/ttf/DejaVuSans-Bold.ttf -> build/lib.linux-x86_64-cpython-310/matplotlib/mpl-data/fonts/ttf\n",
      "  \u001b[31m   \u001b[0m copying lib/matplotlib/mpl-data/images/matplotlib.png -> build/lib.linux-x86_64-cpython-310/matplotlib/mpl-data/images\n",
      "  \u001b[31m   \u001b[0m copying lib/matplotlib/mpl-data/fonts/afm/pncr8a.afm -> build/lib.linux-x86_64-cpython-310/matplotlib/mpl-data/fonts/afm\n",
      "  \u001b[31m   \u001b[0m copying lib/matplotlib/mpl-data/fonts/afm/pplr8a.afm -> build/lib.linux-x86_64-cpython-310/matplotlib/mpl-data/fonts/afm\n",
      "  \u001b[31m   \u001b[0m copying lib/matplotlib/mpl-data/fonts/ttf/cmmi10.ttf -> build/lib.linux-x86_64-cpython-310/matplotlib/mpl-data/fonts/ttf\n",
      "  \u001b[31m   \u001b[0m copying lib/matplotlib/mpl-data/images/home.png -> build/lib.linux-x86_64-cpython-310/matplotlib/mpl-data/images\n",
      "  \u001b[31m   \u001b[0m copying lib/matplotlib/mpl-data/stylelib/seaborn-pastel.mplstyle -> build/lib.linux-x86_64-cpython-310/matplotlib/mpl-data/stylelib\n",
      "  \u001b[31m   \u001b[0m copying lib/matplotlib/mpl-data/fonts/ttf/STIXNonUni.ttf -> build/lib.linux-x86_64-cpython-310/matplotlib/mpl-data/fonts/ttf\n",
      "  \u001b[31m   \u001b[0m copying lib/matplotlib/mpl-data/images/back_large.png -> build/lib.linux-x86_64-cpython-310/matplotlib/mpl-data/images\n",
      "  \u001b[31m   \u001b[0m copying lib/matplotlib/mpl-data/stylelib/seaborn-notebook.mplstyle -> build/lib.linux-x86_64-cpython-310/matplotlib/mpl-data/stylelib\n",
      "  \u001b[31m   \u001b[0m creating build/lib.linux-x86_64-cpython-310/matplotlib/backends/web_backend/jquery-ui-1.12.1/external\n",
      "  \u001b[31m   \u001b[0m creating build/lib.linux-x86_64-cpython-310/matplotlib/backends/web_backend/jquery-ui-1.12.1/external/jquery\n",
      "  \u001b[31m   \u001b[0m copying lib/matplotlib/backends/web_backend/jquery-ui-1.12.1/external/jquery/jquery.js -> build/lib.linux-x86_64-cpython-310/matplotlib/backends/web_backend/jquery-ui-1.12.1/external/jquery\n",
      "  \u001b[31m   \u001b[0m copying lib/matplotlib/mpl-data/images/forward.svg -> build/lib.linux-x86_64-cpython-310/matplotlib/mpl-data/images\n",
      "  \u001b[31m   \u001b[0m copying lib/matplotlib/mpl-data/fonts/ttf/DejaVuSans-BoldOblique.ttf -> build/lib.linux-x86_64-cpython-310/matplotlib/mpl-data/fonts/ttf\n",
      "  \u001b[31m   \u001b[0m copying lib/matplotlib/mpl-data/stylelib/dark_background.mplstyle -> build/lib.linux-x86_64-cpython-310/matplotlib/mpl-data/stylelib\n",
      "  \u001b[31m   \u001b[0m copying lib/matplotlib/mpl-data/images/home.gif -> build/lib.linux-x86_64-cpython-310/matplotlib/mpl-data/images\n",
      "  \u001b[31m   \u001b[0m copying lib/matplotlib/backends/web_backend/jquery-ui-1.12.1/jquery-ui.structure.css -> build/lib.linux-x86_64-cpython-310/matplotlib/backends/web_backend/jquery-ui-1.12.1\n",
      "  \u001b[31m   \u001b[0m copying lib/matplotlib/mpl-data/fonts/ttf/cmtt10.ttf -> build/lib.linux-x86_64-cpython-310/matplotlib/mpl-data/fonts/ttf\n",
      "  \u001b[31m   \u001b[0m copying lib/matplotlib/backends/web_backend/jquery-ui-1.12.1/jquery-ui.structure.min.css -> build/lib.linux-x86_64-cpython-310/matplotlib/backends/web_backend/jquery-ui-1.12.1\n",
      "  \u001b[31m   \u001b[0m copying lib/matplotlib/mpl-data/images/forward.png -> build/lib.linux-x86_64-cpython-310/matplotlib/mpl-data/images\n",
      "  \u001b[31m   \u001b[0m copying lib/matplotlib/mpl-data/images/move.png -> build/lib.linux-x86_64-cpython-310/matplotlib/mpl-data/images\n",
      "  \u001b[31m   \u001b[0m copying lib/matplotlib/mpl-data/fonts/afm/phvr8a.afm -> build/lib.linux-x86_64-cpython-310/matplotlib/mpl-data/fonts/afm\n",
      "  \u001b[31m   \u001b[0m copying lib/matplotlib/mpl-data/images/back.png -> build/lib.linux-x86_64-cpython-310/matplotlib/mpl-data/images\n",
      "  \u001b[31m   \u001b[0m copying lib/matplotlib/mpl-data/images/subplots_large.png -> build/lib.linux-x86_64-cpython-310/matplotlib/mpl-data/images\n",
      "  \u001b[31m   \u001b[0m copying lib/matplotlib/mpl-data/fonts/afm/ptmbi8a.afm -> build/lib.linux-x86_64-cpython-310/matplotlib/mpl-data/fonts/afm\n",
      "  \u001b[31m   \u001b[0m copying lib/matplotlib/mpl-data/fonts/pdfcorefonts/ZapfDingbats.afm -> build/lib.linux-x86_64-cpython-310/matplotlib/mpl-data/fonts/pdfcorefonts\n",
      "  \u001b[31m   \u001b[0m copying lib/matplotlib/mpl-data/images/hand_large.gif -> build/lib.linux-x86_64-cpython-310/matplotlib/mpl-data/images\n",
      "  \u001b[31m   \u001b[0m copying lib/matplotlib/mpl-data/fonts/ttf/STIXNonUniBol.ttf -> build/lib.linux-x86_64-cpython-310/matplotlib/mpl-data/fonts/ttf\n",
      "  \u001b[31m   \u001b[0m copying lib/matplotlib/mpl-data/stylelib/seaborn-muted.mplstyle -> build/lib.linux-x86_64-cpython-310/matplotlib/mpl-data/stylelib\n",
      "  \u001b[31m   \u001b[0m copying lib/matplotlib/mpl-data/fonts/ttf/STIXSizOneSymBol.ttf -> build/lib.linux-x86_64-cpython-310/matplotlib/mpl-data/fonts/ttf\n",
      "  \u001b[31m   \u001b[0m copying lib/matplotlib/mpl-data/images/zoom_to_rect.png -> build/lib.linux-x86_64-cpython-310/matplotlib/mpl-data/images\n",
      "  \u001b[31m   \u001b[0m copying lib/matplotlib/mpl-data/fonts/afm/pbkl8a.afm -> build/lib.linux-x86_64-cpython-310/matplotlib/mpl-data/fonts/afm\n",
      "  \u001b[31m   \u001b[0m copying lib/matplotlib/mpl-data/fonts/pdfcorefonts/Helvetica-Bold.afm -> build/lib.linux-x86_64-cpython-310/matplotlib/mpl-data/fonts/pdfcorefonts\n",
      "  \u001b[31m   \u001b[0m copying lib/matplotlib/mpl-data/fonts/ttf/DejaVuSerif.ttf -> build/lib.linux-x86_64-cpython-310/matplotlib/mpl-data/fonts/ttf\n",
      "  \u001b[31m   \u001b[0m copying lib/matplotlib/mpl-data/fonts/ttf/STIXNonUniBolIta.ttf -> build/lib.linux-x86_64-cpython-310/matplotlib/mpl-data/fonts/ttf\n",
      "  \u001b[31m   \u001b[0m copying lib/matplotlib/mpl-data/fonts/afm/phvl8a.afm -> build/lib.linux-x86_64-cpython-310/matplotlib/mpl-data/fonts/afm\n",
      "  \u001b[31m   \u001b[0m copying lib/matplotlib/mpl-data/fonts/pdfcorefonts/Times-Italic.afm -> build/lib.linux-x86_64-cpython-310/matplotlib/mpl-data/fonts/pdfcorefonts\n",
      "  \u001b[31m   \u001b[0m copying lib/matplotlib/backends/web_backend/jquery-ui-1.12.1/package.json -> build/lib.linux-x86_64-cpython-310/matplotlib/backends/web_backend/jquery-ui-1.12.1\n",
      "  \u001b[31m   \u001b[0m copying lib/matplotlib/mpl-data/images/qt4_editor_options_large.png -> build/lib.linux-x86_64-cpython-310/matplotlib/mpl-data/images\n",
      "  \u001b[31m   \u001b[0m copying lib/matplotlib/backends/web_backend/jquery-ui-1.12.1/images/ui-icons_555555_256x240.png -> build/lib.linux-x86_64-cpython-310/matplotlib/backends/web_backend/jquery-ui-1.12.1/images\n",
      "  \u001b[31m   \u001b[0m copying lib/matplotlib/mpl-data/fonts/ttf/cmr10.ttf -> build/lib.linux-x86_64-cpython-310/matplotlib/mpl-data/fonts/ttf\n",
      "  \u001b[31m   \u001b[0m copying lib/matplotlib/mpl-data/stylelib/seaborn-whitegrid.mplstyle -> build/lib.linux-x86_64-cpython-310/matplotlib/mpl-data/stylelib\n",
      "  \u001b[31m   \u001b[0m copying lib/matplotlib/mpl-data/fonts/afm/psyr.afm -> build/lib.linux-x86_64-cpython-310/matplotlib/mpl-data/fonts/afm\n",
      "  \u001b[31m   \u001b[0m copying lib/matplotlib/mpl-data/fonts/ttf/STIXSizThreeSymReg.ttf -> build/lib.linux-x86_64-cpython-310/matplotlib/mpl-data/fonts/ttf\n",
      "  \u001b[31m   \u001b[0m copying lib/matplotlib/mpl-data/fonts/ttf/STIXGeneralBolIta.ttf -> build/lib.linux-x86_64-cpython-310/matplotlib/mpl-data/fonts/ttf\n",
      "  \u001b[31m   \u001b[0m copying lib/matplotlib/mpl-data/fonts/ttf/DejaVuSansMono-Bold.ttf -> build/lib.linux-x86_64-cpython-310/matplotlib/mpl-data/fonts/ttf\n",
      "  \u001b[31m   \u001b[0m copying lib/matplotlib/mpl-data/images/help.svg -> build/lib.linux-x86_64-cpython-310/matplotlib/mpl-data/images\n",
      "  \u001b[31m   \u001b[0m copying lib/matplotlib/mpl-data/images/subplots.png -> build/lib.linux-x86_64-cpython-310/matplotlib/mpl-data/images\n",
      "  \u001b[31m   \u001b[0m copying lib/matplotlib/mpl-data/stylelib/fivethirtyeight.mplstyle -> build/lib.linux-x86_64-cpython-310/matplotlib/mpl-data/stylelib\n",
      "  \u001b[31m   \u001b[0m copying lib/matplotlib/mpl-data/fonts/ttf/STIXNonUniIta.ttf -> build/lib.linux-x86_64-cpython-310/matplotlib/mpl-data/fonts/ttf\n",
      "  \u001b[31m   \u001b[0m copying lib/matplotlib/mpl-data/fonts/ttf/STIXSizOneSymReg.ttf -> build/lib.linux-x86_64-cpython-310/matplotlib/mpl-data/fonts/ttf\n",
      "  \u001b[31m   \u001b[0m copying lib/matplotlib/mpl-data/stylelib/Solarize_Light2.mplstyle -> build/lib.linux-x86_64-cpython-310/matplotlib/mpl-data/stylelib\n",
      "  \u001b[31m   \u001b[0m copying lib/matplotlib/mpl-data/fonts/afm/putr8a.afm -> build/lib.linux-x86_64-cpython-310/matplotlib/mpl-data/fonts/afm\n",
      "  \u001b[31m   \u001b[0m copying lib/matplotlib/mpl-data/fonts/ttf/DejaVuSansMono.ttf -> build/lib.linux-x86_64-cpython-310/matplotlib/mpl-data/fonts/ttf\n",
      "  \u001b[31m   \u001b[0m copying lib/matplotlib/mpl-data/fonts/afm/ptmb8a.afm -> build/lib.linux-x86_64-cpython-310/matplotlib/mpl-data/fonts/afm\n",
      "  \u001b[31m   \u001b[0m copying lib/matplotlib/mpl-data/fonts/pdfcorefonts/Courier.afm -> build/lib.linux-x86_64-cpython-310/matplotlib/mpl-data/fonts/pdfcorefonts\n",
      "  \u001b[31m   \u001b[0m copying lib/matplotlib/mpl-data/images/back.gif -> build/lib.linux-x86_64-cpython-310/matplotlib/mpl-data/images\n",
      "  \u001b[31m   \u001b[0m copying lib/matplotlib/mpl-data/fonts/afm/pncb8a.afm -> build/lib.linux-x86_64-cpython-310/matplotlib/mpl-data/fonts/afm\n",
      "  \u001b[31m   \u001b[0m copying lib/matplotlib/mpl-data/sample_data/data_x_x2_x3.csv -> build/lib.linux-x86_64-cpython-310/matplotlib/mpl-data/sample_data\n",
      "  \u001b[31m   \u001b[0m copying lib/matplotlib/mpl-data/images/subplots.gif -> build/lib.linux-x86_64-cpython-310/matplotlib/mpl-data/images\n",
      "  \u001b[31m   \u001b[0m copying lib/matplotlib/mpl-data/fonts/pdfcorefonts/Courier-Oblique.afm -> build/lib.linux-x86_64-cpython-310/matplotlib/mpl-data/fonts/pdfcorefonts\n",
      "  \u001b[31m   \u001b[0m copying lib/matplotlib/mpl-data/images/filesave.gif -> build/lib.linux-x86_64-cpython-310/matplotlib/mpl-data/images\n",
      "  \u001b[31m   \u001b[0m copying lib/matplotlib/mpl-data/fonts/afm/pcrbo8a.afm -> build/lib.linux-x86_64-cpython-310/matplotlib/mpl-data/fonts/afm\n",
      "  \u001b[31m   \u001b[0m copying lib/matplotlib/mpl-data/images/hand.png -> build/lib.linux-x86_64-cpython-310/matplotlib/mpl-data/images\n",
      "  \u001b[31m   \u001b[0m copying lib/matplotlib/mpl-data/sample_data/Minduka_Present_Blue_Pack.png -> build/lib.linux-x86_64-cpython-310/matplotlib/mpl-data/sample_data\n",
      "  \u001b[31m   \u001b[0m copying lib/matplotlib/mpl-data/fonts/afm/putri8a.afm -> build/lib.linux-x86_64-cpython-310/matplotlib/mpl-data/fonts/afm\n",
      "  \u001b[31m   \u001b[0m copying lib/matplotlib/mpl-data/sample_data/goog.npz -> build/lib.linux-x86_64-cpython-310/matplotlib/mpl-data/sample_data\n",
      "  \u001b[31m   \u001b[0m copying lib/matplotlib/mpl-data/fonts/ttf/STIXSizFourSymBol.ttf -> build/lib.linux-x86_64-cpython-310/matplotlib/mpl-data/fonts/ttf\n",
      "  \u001b[31m   \u001b[0m copying lib/matplotlib/mpl-data/sample_data/ct.raw.gz -> build/lib.linux-x86_64-cpython-310/matplotlib/mpl-data/sample_data\n",
      "  \u001b[31m   \u001b[0m copying lib/matplotlib/mpl-data/fonts/ttf/STIXGeneralItalic.ttf -> build/lib.linux-x86_64-cpython-310/matplotlib/mpl-data/fonts/ttf\n",
      "  \u001b[31m   \u001b[0m copying lib/matplotlib/mpl-data/images/matplotlib_large.png -> build/lib.linux-x86_64-cpython-310/matplotlib/mpl-data/images\n",
      "  \u001b[31m   \u001b[0m copying lib/matplotlib/mpl-data/stylelib/seaborn-bright.mplstyle -> build/lib.linux-x86_64-cpython-310/matplotlib/mpl-data/stylelib\n",
      "  \u001b[31m   \u001b[0m copying lib/matplotlib/mpl-data/fonts/ttf/STIXSizFiveSymReg.ttf -> build/lib.linux-x86_64-cpython-310/matplotlib/mpl-data/fonts/ttf\n",
      "  \u001b[31m   \u001b[0m copying lib/matplotlib/mpl-data/stylelib/seaborn-ticks.mplstyle -> build/lib.linux-x86_64-cpython-310/matplotlib/mpl-data/stylelib\n",
      "  \u001b[31m   \u001b[0m copying lib/matplotlib/mpl-data/fonts/pdfcorefonts/Helvetica-Oblique.afm -> build/lib.linux-x86_64-cpython-310/matplotlib/mpl-data/fonts/pdfcorefonts\n",
      "  \u001b[31m   \u001b[0m copying lib/matplotlib/mpl-data/images/filesave.svg -> build/lib.linux-x86_64-cpython-310/matplotlib/mpl-data/images\n",
      "  \u001b[31m   \u001b[0m copying lib/matplotlib/mpl-data/fonts/ttf/cmex10.ttf -> build/lib.linux-x86_64-cpython-310/matplotlib/mpl-data/fonts/ttf\n",
      "  \u001b[31m   \u001b[0m copying lib/matplotlib/mpl-data/sample_data/percent_bachelors_degrees_women_usa.csv -> build/lib.linux-x86_64-cpython-310/matplotlib/mpl-data/sample_data\n",
      "  \u001b[31m   \u001b[0m copying lib/matplotlib/mpl-data/sample_data/demodata.csv -> build/lib.linux-x86_64-cpython-310/matplotlib/mpl-data/sample_data\n",
      "  \u001b[31m   \u001b[0m copying lib/matplotlib/backends/web_backend/jquery-ui-1.12.1/jquery-ui.js -> build/lib.linux-x86_64-cpython-310/matplotlib/backends/web_backend/jquery-ui-1.12.1\n",
      "  \u001b[31m   \u001b[0m copying lib/matplotlib/mpl-data/sample_data/ada.png -> build/lib.linux-x86_64-cpython-310/matplotlib/mpl-data/sample_data\n",
      "  \u001b[31m   \u001b[0m copying lib/matplotlib/mpl-data/images/help_large.ppm -> build/lib.linux-x86_64-cpython-310/matplotlib/mpl-data/images\n",
      "  \u001b[31m   \u001b[0m copying lib/matplotlib/mpl-data/fonts/afm/pagd8a.afm -> build/lib.linux-x86_64-cpython-310/matplotlib/mpl-data/fonts/afm\n",
      "  \u001b[31m   \u001b[0m copying lib/matplotlib/mpl-data/fonts/afm/pncri8a.afm -> build/lib.linux-x86_64-cpython-310/matplotlib/mpl-data/fonts/afm\n",
      "  \u001b[31m   \u001b[0m copying lib/matplotlib/mpl-data/fonts/afm/pzdr.afm -> build/lib.linux-x86_64-cpython-310/matplotlib/mpl-data/fonts/afm\n",
      "  \u001b[31m   \u001b[0m copying lib/matplotlib/mpl-data/fonts/ttf/DejaVuSerifDisplay.ttf -> build/lib.linux-x86_64-cpython-310/matplotlib/mpl-data/fonts/ttf\n",
      "  \u001b[31m   \u001b[0m copying lib/matplotlib/mpl-data/stylelib/grayscale.mplstyle -> build/lib.linux-x86_64-cpython-310/matplotlib/mpl-data/stylelib\n",
      "  \u001b[31m   \u001b[0m copying lib/matplotlib/mpl-data/sample_data/logo2.png -> build/lib.linux-x86_64-cpython-310/matplotlib/mpl-data/sample_data\n",
      "  \u001b[31m   \u001b[0m copying lib/matplotlib/mpl-data/fonts/pdfcorefonts/Times-Bold.afm -> build/lib.linux-x86_64-cpython-310/matplotlib/mpl-data/fonts/pdfcorefonts\n",
      "  \u001b[31m   \u001b[0m copying lib/matplotlib/mpl-data/images/move_large.png -> build/lib.linux-x86_64-cpython-310/matplotlib/mpl-data/images\n",
      "  \u001b[31m   \u001b[0m copying lib/matplotlib/mpl-data/stylelib/tableau-colorblind10.mplstyle -> build/lib.linux-x86_64-cpython-310/matplotlib/mpl-data/stylelib\n",
      "  \u001b[31m   \u001b[0m creating build/lib.linux-x86_64-cpython-310/matplotlib/backends/web_backend/jquery\n",
      "  \u001b[31m   \u001b[0m creating build/lib.linux-x86_64-cpython-310/matplotlib/backends/web_backend/jquery/js\n",
      "  \u001b[31m   \u001b[0m copying lib/matplotlib/backends/web_backend/jquery/js/jquery.js -> build/lib.linux-x86_64-cpython-310/matplotlib/backends/web_backend/jquery/js\n",
      "  \u001b[31m   \u001b[0m copying lib/matplotlib/mpl-data/fonts/afm/pcrb8a.afm -> build/lib.linux-x86_64-cpython-310/matplotlib/mpl-data/fonts/afm\n",
      "  \u001b[31m   \u001b[0m copying lib/matplotlib/mpl-data/fonts/ttf/STIXSizTwoSymReg.ttf -> build/lib.linux-x86_64-cpython-310/matplotlib/mpl-data/fonts/ttf\n",
      "  \u001b[31m   \u001b[0m copying lib/matplotlib/backends/web_backend/jquery-ui-1.12.1/AUTHORS.txt -> build/lib.linux-x86_64-cpython-310/matplotlib/backends/web_backend/jquery-ui-1.12.1\n",
      "  \u001b[31m   \u001b[0m copying lib/matplotlib/mpl-data/stylelib/_classic_test.mplstyle -> build/lib.linux-x86_64-cpython-310/matplotlib/mpl-data/stylelib\n",
      "  \u001b[31m   \u001b[0m copying lib/matplotlib/backends/web_backend/jquery/js/jquery.min.js -> build/lib.linux-x86_64-cpython-310/matplotlib/backends/web_backend/jquery/js\n",
      "  \u001b[31m   \u001b[0m copying lib/matplotlib/backends/web_backend/css/fbm.css -> build/lib.linux-x86_64-cpython-310/matplotlib/backends/web_backend/css\n",
      "  \u001b[31m   \u001b[0m copying lib/matplotlib/mpl-data/fonts/pdfcorefonts/Times-BoldItalic.afm -> build/lib.linux-x86_64-cpython-310/matplotlib/mpl-data/fonts/pdfcorefonts\n",
      "  \u001b[31m   \u001b[0m copying lib/matplotlib/mpl-data/images/qt4_editor_options.png -> build/lib.linux-x86_64-cpython-310/matplotlib/mpl-data/images\n",
      "  \u001b[31m   \u001b[0m copying lib/matplotlib/mpl-data/fonts/ttf/STIXGeneral.ttf -> build/lib.linux-x86_64-cpython-310/matplotlib/mpl-data/fonts/ttf\n",
      "  \u001b[31m   \u001b[0m copying lib/matplotlib/mpl-data/fonts/afm/putb8a.afm -> build/lib.linux-x86_64-cpython-310/matplotlib/mpl-data/fonts/afm\n",
      "  \u001b[31m   \u001b[0m copying lib/matplotlib/backends/web_backend/single_figure.html -> build/lib.linux-x86_64-cpython-310/matplotlib/backends/web_backend\n",
      "  \u001b[31m   \u001b[0m UPDATING build/lib.linux-x86_64-cpython-310/matplotlib/_version.py\n",
      "  \u001b[31m   \u001b[0m set build/lib.linux-x86_64-cpython-310/matplotlib/_version.py to '3.1.3'\n",
      "  \u001b[31m   \u001b[0m running build_ext\n",
      "  \u001b[31m   \u001b[0m building 'matplotlib.ft2font' extension\n",
      "  \u001b[31m   \u001b[0m creating build/temp.linux-x86_64-cpython-310\n",
      "  \u001b[31m   \u001b[0m creating build/temp.linux-x86_64-cpython-310/src\n",
      "  \u001b[31m   \u001b[0m gcc -pthread -B /opt/conda/compiler_compat -Wno-unused-result -Wsign-compare -DNDEBUG -fwrapv -O2 -Wall -fPIC -O2 -isystem /opt/conda/include -fPIC -O2 -isystem /opt/conda/include -fPIC -DFREETYPE_BUILD_TYPE=system -DPY_ARRAY_UNIQUE_SYMBOL=MPL_matplotlib_ft2font_ARRAY_API -DNPY_NO_DEPRECATED_API=NPY_1_7_API_VERSION -D__STDC_FORMAT_MACROS=1 -Iextern/agg24-svn/include -I/opt/conda/lib/python3.10/site-packages/numpy/core/include -I/opt/conda/include/python3.10 -c src/checkdep_freetype2.c -o build/temp.linux-x86_64-cpython-310/src/checkdep_freetype2.o -I/opt/conda/include/freetype2\n",
      "  \u001b[31m   \u001b[0m src/checkdep_freetype2.c:7:9: note: ‘#pragma message: Compiling with FreeType version 2.11.0.’\n",
      "  \u001b[31m   \u001b[0m     7 | #pragma message(\"Compiling with FreeType version \" \\\n",
      "  \u001b[31m   \u001b[0m       |         ^~~~~~~\n",
      "  \u001b[31m   \u001b[0m gcc -pthread -B /opt/conda/compiler_compat -Wno-unused-result -Wsign-compare -DNDEBUG -fwrapv -O2 -Wall -fPIC -O2 -isystem /opt/conda/include -fPIC -O2 -isystem /opt/conda/include -fPIC -DFREETYPE_BUILD_TYPE=system -DPY_ARRAY_UNIQUE_SYMBOL=MPL_matplotlib_ft2font_ARRAY_API -DNPY_NO_DEPRECATED_API=NPY_1_7_API_VERSION -D__STDC_FORMAT_MACROS=1 -Iextern/agg24-svn/include -I/opt/conda/lib/python3.10/site-packages/numpy/core/include -I/opt/conda/include/python3.10 -c src/ft2font.cpp -o build/temp.linux-x86_64-cpython-310/src/ft2font.o -I/opt/conda/include/freetype2\n",
      "  \u001b[31m   \u001b[0m gcc: fatal error: cannot execute ‘cc1plus’: execvp: No such file or directory\n",
      "  \u001b[31m   \u001b[0m compilation terminated.\n",
      "  \u001b[31m   \u001b[0m error: command '/usr/bin/gcc' failed with exit code 1\n",
      "  \u001b[31m   \u001b[0m \u001b[31m[end of output]\u001b[0m\n",
      "  \n",
      "  \u001b[1;35mnote\u001b[0m: This error originates from a subprocess, and is likely not a problem with pip.\n",
      "\u001b[31m  ERROR: Failed building wheel for matplotlib\u001b[0m\u001b[31m\n",
      "\u001b[0m\u001b[31mERROR: Could not build wheels for matplotlib, which is required to install pyproject.toml-based projects\u001b[0m\u001b[31m\n",
      "\u001b[0m"
     ]
    }
   ],
   "source": [
    "# Matplotlib\n",
    "!pip install --disable-pip-version-check -q matplotlib==3.1.3"
   ]
  },
  {
   "cell_type": "code",
   "execution_count": 11,
   "metadata": {
    "tags": []
   },
   "outputs": [
    {
     "name": "stdout",
     "output_type": "stream",
     "text": [
      "\u001b[33mWARNING: Running pip as the 'root' user can result in broken permissions and conflicting behaviour with the system package manager. It is recommended to use a virtual environment instead: https://pip.pypa.io/warnings/venv\u001b[0m\u001b[33m\n",
      "\u001b[0m"
     ]
    }
   ],
   "source": [
    "# Seaborn\n",
    "!pip install --disable-pip-version-check -q seaborn==0.10.0"
   ]
  },
  {
   "cell_type": "code",
   "execution_count": 12,
   "metadata": {
    "tags": []
   },
   "outputs": [
    {
     "name": "stdout",
     "output_type": "stream",
     "text": [
      "Python 3.10.6\n",
      "Package                              Version\n",
      "------------------------------------ --------------------\n",
      "alabaster                            0.7.12\n",
      "anaconda-client                      1.11.0\n",
      "anaconda-project                     0.11.1\n",
      "anyio                                3.5.0\n",
      "appdirs                              1.4.4\n",
      "argon2-cffi                          21.3.0\n",
      "argon2-cffi-bindings                 21.2.0\n",
      "arrow                                1.2.2\n",
      "astroid                              3.0.1\n",
      "astropy                              6.0.0\n",
      "astropy-iers-data                    0.2023.12.4.0.30.20\n",
      "asttokens                            2.4.1\n",
      "atomicwrites                         1.4.0\n",
      "attrs                                23.1.0\n",
      "Automat                              20.2.0\n",
      "autopep8                             1.6.0\n",
      "autovizwidget                        0.20.4\n",
      "awscli                               1.18.216\n",
      "awswrangler                          3.5.2\n",
      "Babel                                2.9.1\n",
      "backcall                             0.2.0\n",
      "backports.functools-lru-cache        1.6.4\n",
      "backports.tempfile                   1.0\n",
      "backports.weakref                    1.0.post1\n",
      "bcrypt                               3.2.0\n",
      "beautifulsoup4                       4.11.1\n",
      "binaryornot                          0.4.4\n",
      "bitarray                             2.5.1\n",
      "bkcharts                             0.2\n",
      "black                                22.6.0\n",
      "bleach                               4.1.0\n",
      "blinker                              1.7.0\n",
      "bokeh                                3.3.2\n",
      "boltons                              23.0.0\n",
      "boto3                                1.34.34\n",
      "botocore                             1.34.34\n",
      "Bottleneck                           1.3.5\n",
      "brotlipy                             0.7.0\n",
      "certifi                              2023.11.17\n",
      "cffi                                 1.15.1\n",
      "chardet                              4.0.0\n",
      "charset-normalizer                   2.0.4\n",
      "click                                8.1.7\n",
      "cloudpickle                          2.2.1\n",
      "clyent                               1.2.2\n",
      "colorama                             0.4.3\n",
      "colorcet                             3.0.0\n",
      "comm                                 0.1.1\n",
      "conda                                23.3.1\n",
      "conda-content-trust                  0.1.3\n",
      "conda-pack                           0.6.0\n",
      "conda-package-handling               2.2.0\n",
      "conda_package_streaming              0.9.0\n",
      "conda-token                          0.4.0\n",
      "constantly                           15.1.0\n",
      "contextlib2                          21.6.0\n",
      "contourpy                            1.2.0\n",
      "cookiecutter                         2.5.0\n",
      "cryptography                         41.0.7\n",
      "cssselect                            1.1.0\n",
      "cycler                               0.11.0\n",
      "Cython                               0.29.32\n",
      "cytoolz                              0.11.0\n",
      "daal4py                              2021.6.0\n",
      "dask                                 2022.7.0\n",
      "datashader                           0.14.1\n",
      "datashape                            0.5.4\n",
      "debugpy                              1.5.1\n",
      "decorator                            5.1.1\n",
      "defusedxml                           0.7.1\n",
      "diff-match-patch                     20200713\n",
      "dill                                 0.3.7\n",
      "distributed                          2022.7.0\n",
      "docker                               6.1.3\n",
      "docutils                             0.15.2\n",
      "dparse                               0.6.3\n",
      "entrypoints                          0.4\n",
      "et-xmlfile                           1.1.0\n",
      "exceptiongroup                       1.2.0\n",
      "executing                            2.0.1\n",
      "fastapi                              0.95.2\n",
      "fastjsonschema                       2.16.2\n",
      "filelock                             3.6.0\n",
      "flake8                               4.0.1\n",
      "Flask                                3.0.0\n",
      "fonttools                            4.25.0\n",
      "fqdn                                 1.5.1\n",
      "fsspec                               2022.7.1\n",
      "future                               0.18.3\n",
      "gensim                               4.1.2\n",
      "glob2                                0.7\n",
      "gmpy2                                2.1.2\n",
      "google-pasta                         0.2.0\n",
      "greenlet                             1.1.1\n",
      "gssapi                               1.8.3\n",
      "h11                                  0.14.0\n",
      "h5py                                 3.7.0\n",
      "hdijupyterutils                      0.20.4\n",
      "HeapDict                             1.0.1\n",
      "holoviews                            1.15.0\n",
      "hvplot                               0.8.0\n",
      "hyperlink                            21.0.0\n",
      "idna                                 3.3\n",
      "imagecodecs                          2021.8.26\n",
      "imageio                              2.19.3\n",
      "imagesize                            1.4.1\n",
      "importlib-metadata                   4.11.3\n",
      "incremental                          22.10.0\n",
      "inflection                           0.5.1\n",
      "iniconfig                            1.1.1\n",
      "intake                               0.6.5\n",
      "intervaltree                         3.1.0\n",
      "ipykernel                            6.20.2\n",
      "ipython                              8.18.1\n",
      "ipython-genutils                     0.2.0\n",
      "ipywidgets                           7.6.5\n",
      "isoduration                          20.11.0\n",
      "isort                                5.9.3\n",
      "itemadapter                          0.3.0\n",
      "itemloaders                          1.0.4\n",
      "itsdangerous                         2.1.2\n",
      "jdcal                                1.4.1\n",
      "jedi                                 0.18.1\n",
      "jeepney                              0.7.1\n",
      "jellyfish                            0.9.0\n",
      "Jinja2                               3.1.2\n",
      "jinja2-time                          0.2.0\n",
      "jmespath                             0.10.0\n",
      "joblib                               1.3.2\n",
      "json5                                0.9.6\n",
      "jsonpatch                            1.32\n",
      "jsonpointer                          2.1\n",
      "jsonschema                           4.20.0\n",
      "jsonschema-specifications            2023.11.2\n",
      "jupyter                              1.0.0\n",
      "jupyter_client                       8.6.0\n",
      "jupyter-console                      6.4.3\n",
      "jupyter_core                         5.5.0\n",
      "jupyter-events                       0.9.0\n",
      "jupyter_server                       2.12.1\n",
      "jupyter_server_terminals             0.4.4\n",
      "jupyterlab                           3.4.4\n",
      "jupyterlab-pygments                  0.1.2\n",
      "jupyterlab-server                    2.10.3\n",
      "jupyterlab-widgets                   1.0.0\n",
      "keyring                              23.4.0\n",
      "kiwisolver                           1.4.2\n",
      "krb5                                 0.5.1\n",
      "lazy-object-proxy                    1.6.0\n",
      "libarchive-c                         2.9\n",
      "lief                                 0.13.2\n",
      "llvmlite                             0.38.0\n",
      "locket                               1.0.0\n",
      "lxml                                 4.9.3\n",
      "lz4                                  3.1.3\n",
      "Markdown                             3.3.4\n",
      "markdown-it-py                       3.0.0\n",
      "MarkupSafe                           2.1.3\n",
      "matplotlib                           3.5.2\n",
      "matplotlib-inline                    0.1.6\n",
      "mccabe                               0.7.0\n",
      "mdurl                                0.1.2\n",
      "mistune                              3.0.2\n",
      "mkl-fft                              1.3.1\n",
      "mkl-random                           1.2.2\n",
      "mkl-service                          2.4.0\n",
      "mock                                 4.0.3\n",
      "mpmath                               1.3.0\n",
      "msgpack                              1.0.3\n",
      "multipledispatch                     0.6.0\n",
      "multiprocess                         0.70.15\n",
      "munkres                              1.1.4\n",
      "mypy-extensions                      0.4.3\n",
      "nbclassic                            1.0.0\n",
      "nbclient                             0.5.13\n",
      "nbconvert                            7.12.0\n",
      "nbformat                             5.9.2\n",
      "nest-asyncio                         1.5.5\n",
      "networkx                             2.8.4\n",
      "nltk                                 3.7\n",
      "nose                                 1.3.7\n",
      "notebook                             6.5.6\n",
      "notebook_shim                        0.2.3\n",
      "numba                                0.55.1\n",
      "numexpr                              2.8.3\n",
      "numpy                                1.26.2\n",
      "numpydoc                             1.4.0\n",
      "olefile                              0.46\n",
      "openpyxl                             3.0.10\n",
      "overrides                            7.4.0\n",
      "packaging                            21.3\n",
      "pandas                               2.1.3\n",
      "pandocfilters                        1.5.0\n",
      "panel                                0.13.1\n",
      "papermill                            2.5.0\n",
      "param                                1.12.0\n",
      "parsel                               1.6.0\n",
      "parso                                0.8.3\n",
      "partd                                1.2.0\n",
      "pathos                               0.3.1\n",
      "pathspec                             0.9.0\n",
      "patsy                                0.5.2\n",
      "pep8                                 1.7.1\n",
      "pexpect                              4.8.0\n",
      "pickleshare                          0.7.5\n",
      "Pillow                               10.1.0\n",
      "pip                                  23.3.1\n",
      "pkginfo                              1.8.2\n",
      "platformdirs                         2.5.2\n",
      "plotly                               5.9.0\n",
      "pluggy                               1.0.0\n",
      "ply                                  3.11\n",
      "pox                                  0.3.3\n",
      "poyo                                 0.5.0\n",
      "ppft                                 1.7.6.7\n",
      "prometheus-client                    0.14.1\n",
      "prompt-toolkit                       3.0.41\n",
      "Protego                              0.1.16\n",
      "protobuf                             4.25.1\n",
      "protobuf3-to-dict                    0.1.5\n",
      "psutil                               5.9.0\n",
      "ptyprocess                           0.7.0\n",
      "pure-eval                            0.2.2\n",
      "pure-sasl                            0.6.2\n",
      "py                                   1.11.0\n",
      "pyarrow                              14.0.1\n",
      "pyasn1                               0.4.8\n",
      "pyasn1-modules                       0.2.8\n",
      "pyathena                             2.1.0\n",
      "pycodestyle                          2.8.0\n",
      "pycosat                              0.6.3\n",
      "pycparser                            2.21\n",
      "pyct                                 0.4.8\n",
      "pycurl                               7.45.1\n",
      "pydantic                             1.10.13\n",
      "PyDispatcher                         2.0.5\n",
      "pydocstyle                           6.1.1\n",
      "pyerfa                               2.0.0\n",
      "pyflakes                             2.4.0\n",
      "pyfunctional                         1.4.3\n",
      "Pygments                             2.17.2\n",
      "PyHamcrest                           2.0.2\n",
      "PyHive                               0.7.0\n",
      "pyinstrument                         4.6.2\n",
      "pykerberos                           1.2.4\n",
      "pylint                               3.0.2\n",
      "pyls-spyder                          0.4.0\n",
      "pyodbc                               4.0.34\n",
      "pyOpenSSL                            23.3.0\n",
      "pyparsing                            3.0.9\n",
      "PyQt5-sip                            12.11.0\n",
      "pyrsistent                           0.18.0\n",
      "PySocks                              1.7.1\n",
      "pyspnego                             0.10.2\n",
      "pytest                               7.4.3\n",
      "python-dateutil                      2.8.2\n",
      "python-json-logger                   2.0.7\n",
      "python-lsp-black                     1.2.1\n",
      "python-lsp-jsonrpc                   1.0.0\n",
      "python-lsp-server                    1.5.0\n",
      "python-slugify                       5.0.2\n",
      "python-snappy                        0.6.0\n",
      "pytz                                 2022.1\n",
      "pyviz-comms                          2.0.2\n",
      "PyWavelets                           1.3.0\n",
      "pyxdg                                0.27\n",
      "PyYAML                               5.3.1\n",
      "pyzmq                                25.1.2\n",
      "QDarkStyle                           3.0.2\n",
      "qstylizer                            0.1.10\n",
      "QtAwesome                            1.0.3\n",
      "qtconsole                            5.3.2\n",
      "QtPy                                 2.2.0\n",
      "queuelib                             1.5.0\n",
      "referencing                          0.31.1\n",
      "regex                                2022.7.9\n",
      "requests                             2.31.0\n",
      "requests-file                        1.5.1\n",
      "requests-kerberos                    0.14.0\n",
      "rfc3339-validator                    0.1.4\n",
      "rfc3986-validator                    0.1.1\n",
      "rich                                 13.7.0\n",
      "rope                                 0.22.0\n",
      "rpds-py                              0.13.2\n",
      "rsa                                  4.5\n",
      "Rtree                                0.9.7\n",
      "ruamel.yaml                          0.17.21\n",
      "ruamel.yaml.clib                     0.2.6\n",
      "ruamel-yaml-conda                    0.15.100\n",
      "s3fs                                 0.4.2\n",
      "s3transfer                           0.10.0\n",
      "sagemaker                            2.29.0\n",
      "sagemaker-data-insights              0.3.3\n",
      "sagemaker-datawrangler               0.4.3\n",
      "sagemaker-experiments                0.1.26\n",
      "sagemaker-headless-execution-driver  0.0.12\n",
      "sagemaker-scikit-learn-extension     2.5.0\n",
      "sagemaker-studio-analytics-extension 0.0.20\n",
      "sagemaker-studio-sparkmagic-lib      0.1.4\n",
      "sasl                                 0.3.1\n",
      "schema                               0.7.5\n",
      "scikit-image                         0.19.2\n",
      "scikit-learn                         1.3.2\n",
      "scikit-learn-intelex                 2021.20221004.171507\n",
      "scipy                                1.11.4\n",
      "Scrapy                               2.6.2\n",
      "seaborn                              0.10.0\n",
      "SecretStorage                        3.3.1\n",
      "Send2Trash                           1.8.2\n",
      "service-identity                     18.1.0\n",
      "setuptools                           69.0.2\n",
      "sip                                  6.6.2\n",
      "six                                  1.16.0\n",
      "smart-open                           5.2.1\n",
      "smclarify                            0.5\n",
      "smdebug                              1.0.1\n",
      "smdebug-rulesconfig                  1.0.1\n",
      "sniffio                              1.2.0\n",
      "snowballstemmer                      2.2.0\n",
      "sortedcollections                    2.1.0\n",
      "sortedcontainers                     2.4.0\n",
      "soupsieve                            2.3.1\n",
      "sparkmagic                           0.20.4\n",
      "Sphinx                               5.0.2\n",
      "sphinxcontrib-applehelp              1.0.2\n",
      "sphinxcontrib-devhelp                1.0.2\n",
      "sphinxcontrib-htmlhelp               2.0.0\n",
      "sphinxcontrib-jsmath                 1.0.1\n",
      "sphinxcontrib-qthelp                 1.0.3\n",
      "sphinxcontrib-serializinghtml        1.1.5\n",
      "spyder                               5.3.3\n",
      "spyder-kernels                       2.3.3\n",
      "SQLAlchemy                           1.4.39\n",
      "stack-data                           0.6.3\n",
      "starlette                            0.27.0\n",
      "statsmodels                          0.13.2\n",
      "sympy                                1.10.1\n",
      "tables                               3.6.1\n",
      "tabulate                             0.8.10\n",
      "TBB                                  0.2\n",
      "tblib                                1.7.0\n",
      "tenacity                             8.0.1\n",
      "terminado                            0.13.1\n",
      "testpath                             0.6.0\n",
      "text-unidecode                       1.3\n",
      "textdistance                         4.2.1\n",
      "threadpoolctl                        2.2.0\n",
      "three-merge                          0.1.1\n",
      "thrift                               0.16.0\n",
      "thrift-sasl                          0.4.3\n",
      "tifffile                             2021.7.2\n",
      "tinycss                              0.4\n",
      "tinycss2                             1.2.1\n",
      "tldextract                           3.2.0\n",
      "toml                                 0.10.2\n",
      "tomli                                2.0.1\n",
      "tomlkit                              0.11.1\n",
      "toolz                                0.11.2\n",
      "tornado                              6.4\n",
      "tqdm                                 4.64.1\n",
      "traitlets                            5.14.0\n",
      "Twisted                              23.10.0\n",
      "typing_extensions                    4.9.0\n",
      "tzdata                               2023.3\n",
      "ujson                                5.8.0\n",
      "Unidecode                            1.2.0\n",
      "uri-template                         1.3.0\n",
      "urllib3                              1.26.18\n",
      "uvicorn                              0.22.0\n",
      "w3lib                                1.21.0\n",
      "watchdog                             2.1.6\n",
      "wcwidth                              0.2.5\n",
      "webcolors                            1.13\n",
      "webencodings                         0.5.1\n",
      "websocket-client                     0.58.0\n",
      "Werkzeug                             3.0.1\n",
      "whatthepatch                         1.0.2\n",
      "wheel                                0.42.0\n",
      "widgetsnbextension                   3.5.2\n",
      "wrapt                                1.14.1\n",
      "wurlitzer                            3.0.2\n",
      "xarray                               0.20.1\n",
      "xlrd                                 2.0.1\n",
      "XlsxWriter                           3.0.3\n",
      "xyzservices                          2023.10.1\n",
      "yapf                                 0.31.0\n",
      "zict                                 2.1.0\n",
      "zipp                                 3.8.0\n",
      "zope.interface                       5.4.0\n",
      "zstandard                            0.15.2\n",
      "\n",
      "\u001b[1m[\u001b[0m\u001b[34;49mnotice\u001b[0m\u001b[1;39;49m]\u001b[0m\u001b[39;49m A new release of pip is available: \u001b[0m\u001b[31;49m23.3.1\u001b[0m\u001b[39;49m -> \u001b[0m\u001b[32;49m24.0\u001b[0m\n",
      "\u001b[1m[\u001b[0m\u001b[34;49mnotice\u001b[0m\u001b[1;39;49m]\u001b[0m\u001b[39;49m To update, run: \u001b[0m\u001b[32;49mpip install --upgrade pip\u001b[0m\n"
     ]
    }
   ],
   "source": [
    "!python --version\n",
    "!pip list"
   ]
  },
  {
   "cell_type": "markdown",
   "metadata": {},
   "source": [
    "## Imports"
   ]
  },
  {
   "cell_type": "code",
   "execution_count": 13,
   "metadata": {
    "tags": []
   },
   "outputs": [],
   "source": [
    "import boto3\n",
    "import sagemaker\n",
    "import pandas as pd\n",
    "from pyathena import connect\n",
    "import awswrangler as wr\n",
    "import pandas as pd"
   ]
  },
  {
   "cell_type": "markdown",
   "metadata": {},
   "source": [
    "## Data Engineering"
   ]
  },
  {
   "cell_type": "code",
   "execution_count": 46,
   "metadata": {
    "tags": []
   },
   "outputs": [
    {
     "name": "stdout",
     "output_type": "stream",
     "text": [
      "sagemaker.config INFO - Not applying SDK defaults from location: /etc/xdg/sagemaker/config.yaml\n",
      "sagemaker.config INFO - Not applying SDK defaults from location: /root/.config/sagemaker/config.yaml\n",
      "sagemaker.config INFO - Not applying SDK defaults from location: /etc/xdg/sagemaker/config.yaml\n",
      "sagemaker.config INFO - Not applying SDK defaults from location: /root/.config/sagemaker/config.yaml\n"
     ]
    }
   ],
   "source": [
    "sess = sagemaker.Session()\n",
    "bucket = \"stockdata90210\"\n",
    "role = sagemaker.get_execution_role()\n",
    "region = boto3.Session().region_name\n",
    "account_id = boto3.client(\"sts\").get_caller_identity().get(\"Account\")\n",
    "\n",
    "sm = boto3.Session().client(service_name=\"sagemaker\", region_name=region)"
   ]
  },
  {
   "cell_type": "code",
   "execution_count": 48,
   "metadata": {
    "tags": []
   },
   "outputs": [
    {
     "name": "stdout",
     "output_type": "stream",
     "text": [
      "Default bucket: stockdata90210\n"
     ]
    }
   ],
   "source": [
    "print(\"Default bucket: {}\".format(bucket))"
   ]
  },
  {
   "cell_type": "code",
   "execution_count": 51,
   "metadata": {
    "tags": []
   },
   "outputs": [
    {
     "name": "stdout",
     "output_type": "stream",
     "text": [
      "                           PRE 1day/\n",
      "                           PRE 1min/\n",
      "                           PRE stock_dividends/\n",
      "2024-01-30 15:13:23     578357 company_profiles.csv\n",
      "2024-01-30 15:13:23   39775657 frd_short_interest.csv\n",
      "2024-01-30 15:14:14     384604 universe.txt\n"
     ]
    }
   ],
   "source": [
    "!aws s3 ls \"stockdata90210\""
   ]
  },
  {
   "cell_type": "markdown",
   "metadata": {
    "tags": []
   },
   "source": [
    "### Create Athena Database"
   ]
  },
  {
   "cell_type": "code",
   "execution_count": 53,
   "metadata": {
    "tags": []
   },
   "outputs": [],
   "source": [
    "database_name = \"stockdata\""
   ]
  },
  {
   "cell_type": "code",
   "execution_count": 54,
   "metadata": {
    "tags": []
   },
   "outputs": [],
   "source": [
    "# Set S3 staging directory -- this is a temporary directory used for Athena queries\n",
    "s3_staging_dir = \"s3://{0}/athena/staging\".format(bucket)"
   ]
  },
  {
   "cell_type": "code",
   "execution_count": 58,
   "metadata": {
    "tags": []
   },
   "outputs": [],
   "source": [
    "conn = connect(region_name=region, s3_staging_dir=s3_staging_dir)"
   ]
  },
  {
   "cell_type": "code",
   "execution_count": 61,
   "metadata": {
    "tags": []
   },
   "outputs": [
    {
     "name": "stdout",
     "output_type": "stream",
     "text": [
      "CREATE DATABASE IF NOT EXISTS stockdata\n"
     ]
    }
   ],
   "source": [
    "statement = \"CREATE DATABASE IF NOT EXISTS {}\".format(database_name)\n",
    "print(statement)"
   ]
  },
  {
   "cell_type": "code",
   "execution_count": 62,
   "metadata": {
    "tags": []
   },
   "outputs": [
    {
     "name": "stderr",
     "output_type": "stream",
     "text": [
      "/tmp/ipykernel_41/618921652.py:1: UserWarning: pandas only supports SQLAlchemy connectable (engine/connection) or database string URI or sqlite3 DBAPI2 connection. Other DBAPI2 objects are not tested. Please consider using SQLAlchemy.\n",
      "  pd.read_sql(statement, conn)\n"
     ]
    },
    {
     "data": {
      "text/html": [
       "<div>\n",
       "<style scoped>\n",
       "    .dataframe tbody tr th:only-of-type {\n",
       "        vertical-align: middle;\n",
       "    }\n",
       "\n",
       "    .dataframe tbody tr th {\n",
       "        vertical-align: top;\n",
       "    }\n",
       "\n",
       "    .dataframe thead th {\n",
       "        text-align: right;\n",
       "    }\n",
       "</style>\n",
       "<table border=\"1\" class=\"dataframe\">\n",
       "  <thead>\n",
       "    <tr style=\"text-align: right;\">\n",
       "      <th></th>\n",
       "    </tr>\n",
       "  </thead>\n",
       "  <tbody>\n",
       "  </tbody>\n",
       "</table>\n",
       "</div>"
      ],
      "text/plain": [
       "Empty DataFrame\n",
       "Columns: []\n",
       "Index: []"
      ]
     },
     "execution_count": 62,
     "metadata": {},
     "output_type": "execute_result"
    }
   ],
   "source": [
    "pd.read_sql(statement, conn)"
   ]
  },
  {
   "cell_type": "markdown",
   "metadata": {},
   "source": [
    "### Verify The Database Has Been Created Succesfully"
   ]
  },
  {
   "cell_type": "code",
   "execution_count": 63,
   "metadata": {
    "tags": []
   },
   "outputs": [
    {
     "name": "stderr",
     "output_type": "stream",
     "text": [
      "/tmp/ipykernel_41/3999478089.py:3: UserWarning: pandas only supports SQLAlchemy connectable (engine/connection) or database string URI or sqlite3 DBAPI2 connection. Other DBAPI2 objects are not tested. Please consider using SQLAlchemy.\n",
      "  df_show = pd.read_sql(statement, conn)\n"
     ]
    },
    {
     "data": {
      "text/html": [
       "<div>\n",
       "<style scoped>\n",
       "    .dataframe tbody tr th:only-of-type {\n",
       "        vertical-align: middle;\n",
       "    }\n",
       "\n",
       "    .dataframe tbody tr th {\n",
       "        vertical-align: top;\n",
       "    }\n",
       "\n",
       "    .dataframe thead th {\n",
       "        text-align: right;\n",
       "    }\n",
       "</style>\n",
       "<table border=\"1\" class=\"dataframe\">\n",
       "  <thead>\n",
       "    <tr style=\"text-align: right;\">\n",
       "      <th></th>\n",
       "      <th>database_name</th>\n",
       "    </tr>\n",
       "  </thead>\n",
       "  <tbody>\n",
       "    <tr>\n",
       "      <th>0</th>\n",
       "      <td>default</td>\n",
       "    </tr>\n",
       "    <tr>\n",
       "      <th>1</th>\n",
       "      <td>stockdata</td>\n",
       "    </tr>\n",
       "  </tbody>\n",
       "</table>\n",
       "</div>"
      ],
      "text/plain": [
       "  database_name\n",
       "0       default\n",
       "1     stockdata"
      ]
     },
     "execution_count": 63,
     "metadata": {},
     "output_type": "execute_result"
    }
   ],
   "source": [
    "statement = \"SHOW DATABASES\"\n",
    "\n",
    "df_show = pd.read_sql(statement, conn)\n",
    "df_show.head(5)"
   ]
  },
  {
   "cell_type": "markdown",
   "metadata": {},
   "source": [
    "### Create Meta Data Tables"
   ]
  },
  {
   "cell_type": "markdown",
   "metadata": {},
   "source": [
    "#### Stock Universe"
   ]
  },
  {
   "cell_type": "markdown",
   "metadata": {
    "tags": []
   },
   "source": [
    "##### Create Athena Table"
   ]
  },
  {
   "cell_type": "code",
   "execution_count": 82,
   "metadata": {
    "tags": []
   },
   "outputs": [
    {
     "name": "stdout",
     "output_type": "stream",
     "text": [
      "s3://stockdata90210/universe/\n"
     ]
    }
   ],
   "source": [
    "database_name = \"stockdata\"\n",
    "table_name_tsv = \"universe\"\n",
    "s3_private_path_tsv = \"s3://{}/universe/\".format(bucket)\n",
    "print(s3_private_path_tsv)"
   ]
  },
  {
   "cell_type": "code",
   "execution_count": 83,
   "metadata": {
    "tags": []
   },
   "outputs": [
    {
     "name": "stdout",
     "output_type": "stream",
     "text": [
      "CREATE EXTERNAL TABLE IF NOT EXISTS stockdata.universe(\n",
      "         Ticker string,\n",
      "         Name string,\n",
      "         First_Date string,\n",
      "         Last_Date string\n",
      ") ROW FORMAT DELIMITED FIELDS TERMINATED BY ',' LINES TERMINATED BY '\\n' LOCATION 's3://stockdata90210/universe/'\n",
      "TBLPROPERTIES ('skip.header.line.count'='1')\n"
     ]
    }
   ],
   "source": [
    "# SQL statement to execute\n",
    "statement = \"\"\"CREATE EXTERNAL TABLE IF NOT EXISTS {}.{}(\n",
    "         Ticker string,\n",
    "         Name string,\n",
    "         First_Date string,\n",
    "         Last_Date string\n",
    ") ROW FORMAT DELIMITED FIELDS TERMINATED BY ',' LINES TERMINATED BY '\\\\n' LOCATION '{}'\n",
    "TBLPROPERTIES ('skip.header.line.count'='1')\"\"\".format(\n",
    "    database_name, table_name_tsv, s3_private_path_tsv\n",
    ")\n",
    "\n",
    "print(statement)"
   ]
  },
  {
   "cell_type": "code",
   "execution_count": 84,
   "metadata": {
    "tags": []
   },
   "outputs": [
    {
     "name": "stderr",
     "output_type": "stream",
     "text": [
      "/tmp/ipykernel_41/618921652.py:1: UserWarning: pandas only supports SQLAlchemy connectable (engine/connection) or database string URI or sqlite3 DBAPI2 connection. Other DBAPI2 objects are not tested. Please consider using SQLAlchemy.\n",
      "  pd.read_sql(statement, conn)\n"
     ]
    },
    {
     "data": {
      "text/html": [
       "<div>\n",
       "<style scoped>\n",
       "    .dataframe tbody tr th:only-of-type {\n",
       "        vertical-align: middle;\n",
       "    }\n",
       "\n",
       "    .dataframe tbody tr th {\n",
       "        vertical-align: top;\n",
       "    }\n",
       "\n",
       "    .dataframe thead th {\n",
       "        text-align: right;\n",
       "    }\n",
       "</style>\n",
       "<table border=\"1\" class=\"dataframe\">\n",
       "  <thead>\n",
       "    <tr style=\"text-align: right;\">\n",
       "      <th></th>\n",
       "    </tr>\n",
       "  </thead>\n",
       "  <tbody>\n",
       "  </tbody>\n",
       "</table>\n",
       "</div>"
      ],
      "text/plain": [
       "Empty DataFrame\n",
       "Columns: []\n",
       "Index: []"
      ]
     },
     "execution_count": 84,
     "metadata": {},
     "output_type": "execute_result"
    }
   ],
   "source": [
    "pd.read_sql(statement, conn)"
   ]
  },
  {
   "cell_type": "markdown",
   "metadata": {
    "tags": []
   },
   "source": [
    "##### Verify The Table Has Been Created Succesfully"
   ]
  },
  {
   "cell_type": "code",
   "execution_count": 85,
   "metadata": {
    "tags": []
   },
   "outputs": [
    {
     "name": "stderr",
     "output_type": "stream",
     "text": [
      "/tmp/ipykernel_41/2201015668.py:3: UserWarning: pandas only supports SQLAlchemy connectable (engine/connection) or database string URI or sqlite3 DBAPI2 connection. Other DBAPI2 objects are not tested. Please consider using SQLAlchemy.\n",
      "  df_show = pd.read_sql(statement, conn)\n"
     ]
    },
    {
     "data": {
      "text/html": [
       "<div>\n",
       "<style scoped>\n",
       "    .dataframe tbody tr th:only-of-type {\n",
       "        vertical-align: middle;\n",
       "    }\n",
       "\n",
       "    .dataframe tbody tr th {\n",
       "        vertical-align: top;\n",
       "    }\n",
       "\n",
       "    .dataframe thead th {\n",
       "        text-align: right;\n",
       "    }\n",
       "</style>\n",
       "<table border=\"1\" class=\"dataframe\">\n",
       "  <thead>\n",
       "    <tr style=\"text-align: right;\">\n",
       "      <th></th>\n",
       "      <th>tab_name</th>\n",
       "    </tr>\n",
       "  </thead>\n",
       "  <tbody>\n",
       "    <tr>\n",
       "      <th>0</th>\n",
       "      <td>universe</td>\n",
       "    </tr>\n",
       "  </tbody>\n",
       "</table>\n",
       "</div>"
      ],
      "text/plain": [
       "   tab_name\n",
       "0  universe"
      ]
     },
     "execution_count": 85,
     "metadata": {},
     "output_type": "execute_result"
    }
   ],
   "source": [
    "statement = \"SHOW TABLES in {}\".format(database_name)\n",
    "\n",
    "df_show = pd.read_sql(statement, conn)\n",
    "df_show.head(5)"
   ]
  },
  {
   "cell_type": "markdown",
   "metadata": {
    "tags": []
   },
   "source": [
    "##### Run A Sample Query"
   ]
  },
  {
   "cell_type": "code",
   "execution_count": 86,
   "metadata": {
    "tags": []
   },
   "outputs": [],
   "source": [
    "product_category = \"ticker\"\n",
    "\n",
    "statement = \"\"\"SELECT * FROM {}.{} LIMIT 100\"\"\".format(\n",
    "    database_name, table_name_tsv, product_category\n",
    ")"
   ]
  },
  {
   "cell_type": "code",
   "execution_count": 87,
   "metadata": {
    "tags": []
   },
   "outputs": [
    {
     "name": "stdout",
     "output_type": "stream",
     "text": [
      "SELECT * FROM stockdata.universe LIMIT 100\n"
     ]
    },
    {
     "name": "stderr",
     "output_type": "stream",
     "text": [
      "/tmp/ipykernel_41/973613919.py:2: UserWarning: pandas only supports SQLAlchemy connectable (engine/connection) or database string URI or sqlite3 DBAPI2 connection. Other DBAPI2 objects are not tested. Please consider using SQLAlchemy.\n",
      "  df = pd.read_sql(statement, conn)\n"
     ]
    },
    {
     "data": {
      "text/html": [
       "<div>\n",
       "<style scoped>\n",
       "    .dataframe tbody tr th:only-of-type {\n",
       "        vertical-align: middle;\n",
       "    }\n",
       "\n",
       "    .dataframe tbody tr th {\n",
       "        vertical-align: top;\n",
       "    }\n",
       "\n",
       "    .dataframe thead th {\n",
       "        text-align: right;\n",
       "    }\n",
       "</style>\n",
       "<table border=\"1\" class=\"dataframe\">\n",
       "  <thead>\n",
       "    <tr style=\"text-align: right;\">\n",
       "      <th></th>\n",
       "      <th>ticker</th>\n",
       "      <th>name</th>\n",
       "      <th>first_date</th>\n",
       "      <th>last_date</th>\n",
       "    </tr>\n",
       "  </thead>\n",
       "  <tbody>\n",
       "    <tr>\n",
       "      <th>0</th>\n",
       "      <td>A</td>\n",
       "      <td>Agilent Technologies Inc</td>\n",
       "      <td>2005-01-03</td>\n",
       "      <td>2023-04-21</td>\n",
       "    </tr>\n",
       "    <tr>\n",
       "      <th>1</th>\n",
       "      <td>AA</td>\n",
       "      <td>Alcoa Corporation</td>\n",
       "      <td>2016-10-18</td>\n",
       "      <td>2023-04-21</td>\n",
       "    </tr>\n",
       "    <tr>\n",
       "      <th>2</th>\n",
       "      <td>AACG</td>\n",
       "      <td>Ata Creativity Global American Depositary Shares</td>\n",
       "      <td>2008-01-29</td>\n",
       "      <td>2023-04-21</td>\n",
       "    </tr>\n",
       "    <tr>\n",
       "      <th>3</th>\n",
       "      <td>AADI</td>\n",
       "      <td>Aadi Bioscience</td>\n",
       "      <td>2017-08-08</td>\n",
       "      <td>2023-04-21</td>\n",
       "    </tr>\n",
       "    <tr>\n",
       "      <th>4</th>\n",
       "      <td>AAIC</td>\n",
       "      <td>Arlington Asset Investment Class A</td>\n",
       "      <td>2009-06-10</td>\n",
       "      <td>2023-04-21</td>\n",
       "    </tr>\n",
       "  </tbody>\n",
       "</table>\n",
       "</div>"
      ],
      "text/plain": [
       "  ticker                                              name  first_date  \\\n",
       "0      A                          Agilent Technologies Inc  2005-01-03   \n",
       "1     AA                                 Alcoa Corporation  2016-10-18   \n",
       "2   AACG  Ata Creativity Global American Depositary Shares  2008-01-29   \n",
       "3   AADI                                  Aadi Bioscience   2017-08-08   \n",
       "4   AAIC                Arlington Asset Investment Class A  2009-06-10   \n",
       "\n",
       "    last_date  \n",
       "0  2023-04-21  \n",
       "1  2023-04-21  \n",
       "2  2023-04-21  \n",
       "3  2023-04-21  \n",
       "4  2023-04-21  "
      ]
     },
     "execution_count": 87,
     "metadata": {},
     "output_type": "execute_result"
    }
   ],
   "source": [
    "print(statement)\n",
    "df = pd.read_sql(statement, conn)\n",
    "df.head(5)"
   ]
  },
  {
   "cell_type": "markdown",
   "metadata": {},
   "source": [
    "#### Company Profiles"
   ]
  },
  {
   "cell_type": "markdown",
   "metadata": {},
   "source": [
    "##### Create Athena Table"
   ]
  },
  {
   "cell_type": "code",
   "execution_count": 96,
   "metadata": {
    "tags": []
   },
   "outputs": [
    {
     "name": "stdout",
     "output_type": "stream",
     "text": [
      "s3://stockdata90210/company_profile/\n"
     ]
    }
   ],
   "source": [
    "database_name = \"stockdata\"\n",
    "table_name_tsv = \"company_profile\"\n",
    "s3_private_path_tsv = \"s3://{}/company_profile/\".format(bucket)\n",
    "print(s3_private_path_tsv)"
   ]
  },
  {
   "cell_type": "code",
   "execution_count": 112,
   "metadata": {
    "tags": []
   },
   "outputs": [
    {
     "name": "stdout",
     "output_type": "stream",
     "text": [
      "CREATE EXTERNAL TABLE IF NOT EXISTS stockdata.company_profile(\n",
      "         `Ticker` string,\n",
      "         `Company Name` string,\n",
      "         `Country` string,\n",
      "         `State` string,\n",
      "         `Exchange` string,\n",
      "         `Sector` string,\n",
      "         `Industry` string,\n",
      "         `Ipo Date` string\n",
      ") ROW FORMAT DELIMITED FIELDS TERMINATED BY ',' LINES TERMINATED BY '\\n' LOCATION 's3://stockdata90210/company_profile/'\n",
      "TBLPROPERTIES ('skip.header.line.count'='1')\n"
     ]
    }
   ],
   "source": [
    "# SQL statement to execute\n",
    "statement = \"\"\"CREATE EXTERNAL TABLE IF NOT EXISTS {}.{}(\n",
    "         `Ticker` string,\n",
    "         `Company Name` string,\n",
    "         `Country` string,\n",
    "         `State` string,\n",
    "         `Exchange` string,\n",
    "         `Sector` string,\n",
    "         `Industry` string,\n",
    "         `Ipo Date` string\n",
    ") ROW FORMAT DELIMITED FIELDS TERMINATED BY ',' LINES TERMINATED BY '\\\\n' LOCATION '{}'\n",
    "TBLPROPERTIES ('skip.header.line.count'='1')\"\"\".format(\n",
    "    database_name, table_name_tsv, s3_private_path_tsv\n",
    ")\n",
    "\n",
    "print(statement)"
   ]
  },
  {
   "cell_type": "code",
   "execution_count": 113,
   "metadata": {
    "tags": []
   },
   "outputs": [
    {
     "name": "stderr",
     "output_type": "stream",
     "text": [
      "/tmp/ipykernel_41/618921652.py:1: UserWarning: pandas only supports SQLAlchemy connectable (engine/connection) or database string URI or sqlite3 DBAPI2 connection. Other DBAPI2 objects are not tested. Please consider using SQLAlchemy.\n",
      "  pd.read_sql(statement, conn)\n"
     ]
    },
    {
     "data": {
      "text/html": [
       "<div>\n",
       "<style scoped>\n",
       "    .dataframe tbody tr th:only-of-type {\n",
       "        vertical-align: middle;\n",
       "    }\n",
       "\n",
       "    .dataframe tbody tr th {\n",
       "        vertical-align: top;\n",
       "    }\n",
       "\n",
       "    .dataframe thead th {\n",
       "        text-align: right;\n",
       "    }\n",
       "</style>\n",
       "<table border=\"1\" class=\"dataframe\">\n",
       "  <thead>\n",
       "    <tr style=\"text-align: right;\">\n",
       "      <th></th>\n",
       "    </tr>\n",
       "  </thead>\n",
       "  <tbody>\n",
       "  </tbody>\n",
       "</table>\n",
       "</div>"
      ],
      "text/plain": [
       "Empty DataFrame\n",
       "Columns: []\n",
       "Index: []"
      ]
     },
     "execution_count": 113,
     "metadata": {},
     "output_type": "execute_result"
    }
   ],
   "source": [
    "pd.read_sql(statement, conn)"
   ]
  },
  {
   "cell_type": "markdown",
   "metadata": {},
   "source": [
    "##### Verify The Table Has Been Created Succesfully"
   ]
  },
  {
   "cell_type": "code",
   "execution_count": 103,
   "metadata": {
    "tags": []
   },
   "outputs": [
    {
     "name": "stderr",
     "output_type": "stream",
     "text": [
      "/tmp/ipykernel_41/2201015668.py:3: UserWarning: pandas only supports SQLAlchemy connectable (engine/connection) or database string URI or sqlite3 DBAPI2 connection. Other DBAPI2 objects are not tested. Please consider using SQLAlchemy.\n",
      "  df_show = pd.read_sql(statement, conn)\n"
     ]
    },
    {
     "data": {
      "text/html": [
       "<div>\n",
       "<style scoped>\n",
       "    .dataframe tbody tr th:only-of-type {\n",
       "        vertical-align: middle;\n",
       "    }\n",
       "\n",
       "    .dataframe tbody tr th {\n",
       "        vertical-align: top;\n",
       "    }\n",
       "\n",
       "    .dataframe thead th {\n",
       "        text-align: right;\n",
       "    }\n",
       "</style>\n",
       "<table border=\"1\" class=\"dataframe\">\n",
       "  <thead>\n",
       "    <tr style=\"text-align: right;\">\n",
       "      <th></th>\n",
       "      <th>tab_name</th>\n",
       "    </tr>\n",
       "  </thead>\n",
       "  <tbody>\n",
       "    <tr>\n",
       "      <th>0</th>\n",
       "      <td>universe</td>\n",
       "    </tr>\n",
       "  </tbody>\n",
       "</table>\n",
       "</div>"
      ],
      "text/plain": [
       "   tab_name\n",
       "0  universe"
      ]
     },
     "execution_count": 103,
     "metadata": {},
     "output_type": "execute_result"
    }
   ],
   "source": [
    "statement = \"SHOW TABLES in {}\".format(database_name)\n",
    "\n",
    "df_show = pd.read_sql(statement, conn)\n",
    "df_show.head(5)"
   ]
  },
  {
   "cell_type": "markdown",
   "metadata": {},
   "source": [
    "##### Run A Sample Query"
   ]
  },
  {
   "cell_type": "code",
   "execution_count": 104,
   "metadata": {
    "tags": []
   },
   "outputs": [],
   "source": [
    "product_category = \"ticker\"\n",
    "\n",
    "statement = \"\"\"SELECT * FROM {}.{} LIMIT 100\"\"\".format(\n",
    "    database_name, table_name_tsv, product_category\n",
    ")"
   ]
  },
  {
   "cell_type": "code",
   "execution_count": 105,
   "metadata": {
    "tags": []
   },
   "outputs": [
    {
     "name": "stdout",
     "output_type": "stream",
     "text": [
      "SELECT * FROM stockdata.company_profile LIMIT 100\n"
     ]
    },
    {
     "name": "stderr",
     "output_type": "stream",
     "text": [
      "/tmp/ipykernel_41/973613919.py:2: UserWarning: pandas only supports SQLAlchemy connectable (engine/connection) or database string URI or sqlite3 DBAPI2 connection. Other DBAPI2 objects are not tested. Please consider using SQLAlchemy.\n",
      "  df = pd.read_sql(statement, conn)\n"
     ]
    },
    {
     "ename": "DatabaseError",
     "evalue": "Execution failed on sql: SELECT * FROM stockdata.company_profile LIMIT 100\nTABLE_NOT_FOUND: line 1:15: Table 'awsdatacatalog.stockdata.company_profile' does not exist\nunable to rollback",
     "output_type": "error",
     "traceback": [
      "\u001b[0;31m---------------------------------------------------------------------------\u001b[0m",
      "\u001b[0;31mOperationalError\u001b[0m                          Traceback (most recent call last)",
      "File \u001b[0;32m/opt/conda/lib/python3.10/site-packages/pandas/io/sql.py:2262\u001b[0m, in \u001b[0;36mSQLiteDatabase.execute\u001b[0;34m(self, sql, params)\u001b[0m\n\u001b[1;32m   2261\u001b[0m \u001b[38;5;28;01mtry\u001b[39;00m:\n\u001b[0;32m-> 2262\u001b[0m     \u001b[43mcur\u001b[49m\u001b[38;5;241;43m.\u001b[39;49m\u001b[43mexecute\u001b[49m\u001b[43m(\u001b[49m\u001b[43msql\u001b[49m\u001b[43m,\u001b[49m\u001b[43m \u001b[49m\u001b[38;5;241;43m*\u001b[39;49m\u001b[43margs\u001b[49m\u001b[43m)\u001b[49m\n\u001b[1;32m   2263\u001b[0m     \u001b[38;5;28;01mreturn\u001b[39;00m cur\n",
      "File \u001b[0;32m/opt/conda/lib/python3.10/site-packages/pyathena/util.py:37\u001b[0m, in \u001b[0;36msynchronized.<locals>._wrapper\u001b[0;34m(*args, **kwargs)\u001b[0m\n\u001b[1;32m     36\u001b[0m \u001b[38;5;28;01mwith\u001b[39;00m _lock:\n\u001b[0;32m---> 37\u001b[0m     \u001b[38;5;28;01mreturn\u001b[39;00m \u001b[43mwrapped\u001b[49m\u001b[43m(\u001b[49m\u001b[38;5;241;43m*\u001b[39;49m\u001b[43margs\u001b[49m\u001b[43m,\u001b[49m\u001b[43m \u001b[49m\u001b[38;5;241;43m*\u001b[39;49m\u001b[38;5;241;43m*\u001b[39;49m\u001b[43mkwargs\u001b[49m\u001b[43m)\u001b[49m\n",
      "File \u001b[0;32m/opt/conda/lib/python3.10/site-packages/pyathena/cursor.py:106\u001b[0m, in \u001b[0;36mCursor.execute\u001b[0;34m(self, operation, parameters, work_group, s3_staging_dir, cache_size, cache_expiration_time)\u001b[0m\n\u001b[1;32m    105\u001b[0m \u001b[38;5;28;01melse\u001b[39;00m:\n\u001b[0;32m--> 106\u001b[0m     \u001b[38;5;28;01mraise\u001b[39;00m OperationalError(query_execution\u001b[38;5;241m.\u001b[39mstate_change_reason)\n\u001b[1;32m    107\u001b[0m \u001b[38;5;28;01mreturn\u001b[39;00m \u001b[38;5;28mself\u001b[39m\n",
      "\u001b[0;31mOperationalError\u001b[0m: TABLE_NOT_FOUND: line 1:15: Table 'awsdatacatalog.stockdata.company_profile' does not exist",
      "\nDuring handling of the above exception, another exception occurred:\n",
      "\u001b[0;31mNotSupportedError\u001b[0m                         Traceback (most recent call last)",
      "File \u001b[0;32m/opt/conda/lib/python3.10/site-packages/pandas/io/sql.py:2266\u001b[0m, in \u001b[0;36mSQLiteDatabase.execute\u001b[0;34m(self, sql, params)\u001b[0m\n\u001b[1;32m   2265\u001b[0m \u001b[38;5;28;01mtry\u001b[39;00m:\n\u001b[0;32m-> 2266\u001b[0m     \u001b[38;5;28;43mself\u001b[39;49m\u001b[38;5;241;43m.\u001b[39;49m\u001b[43mcon\u001b[49m\u001b[38;5;241;43m.\u001b[39;49m\u001b[43mrollback\u001b[49m\u001b[43m(\u001b[49m\u001b[43m)\u001b[49m\n\u001b[1;32m   2267\u001b[0m \u001b[38;5;28;01mexcept\u001b[39;00m \u001b[38;5;167;01mException\u001b[39;00m \u001b[38;5;28;01mas\u001b[39;00m inner_exc:  \u001b[38;5;66;03m# pragma: no cover\u001b[39;00m\n",
      "File \u001b[0;32m/opt/conda/lib/python3.10/site-packages/pyathena/connection.py:242\u001b[0m, in \u001b[0;36mConnection.rollback\u001b[0;34m(self)\u001b[0m\n\u001b[1;32m    241\u001b[0m \u001b[38;5;28;01mdef\u001b[39;00m \u001b[38;5;21mrollback\u001b[39m(\u001b[38;5;28mself\u001b[39m) \u001b[38;5;241m-\u001b[39m\u001b[38;5;241m>\u001b[39m \u001b[38;5;28;01mNone\u001b[39;00m:\n\u001b[0;32m--> 242\u001b[0m     \u001b[38;5;28;01mraise\u001b[39;00m NotSupportedError\n",
      "\u001b[0;31mNotSupportedError\u001b[0m: ",
      "\nThe above exception was the direct cause of the following exception:\n",
      "\u001b[0;31mDatabaseError\u001b[0m                             Traceback (most recent call last)",
      "Cell \u001b[0;32mIn[105], line 2\u001b[0m\n\u001b[1;32m      1\u001b[0m \u001b[38;5;28mprint\u001b[39m(statement)\n\u001b[0;32m----> 2\u001b[0m df \u001b[38;5;241m=\u001b[39m \u001b[43mpd\u001b[49m\u001b[38;5;241;43m.\u001b[39;49m\u001b[43mread_sql\u001b[49m\u001b[43m(\u001b[49m\u001b[43mstatement\u001b[49m\u001b[43m,\u001b[49m\u001b[43m \u001b[49m\u001b[43mconn\u001b[49m\u001b[43m)\u001b[49m\n\u001b[1;32m      3\u001b[0m df\u001b[38;5;241m.\u001b[39mhead(\u001b[38;5;241m5\u001b[39m)\n",
      "File \u001b[0;32m/opt/conda/lib/python3.10/site-packages/pandas/io/sql.py:654\u001b[0m, in \u001b[0;36mread_sql\u001b[0;34m(sql, con, index_col, coerce_float, params, parse_dates, columns, chunksize, dtype_backend, dtype)\u001b[0m\n\u001b[1;32m    652\u001b[0m \u001b[38;5;28;01mwith\u001b[39;00m pandasSQL_builder(con) \u001b[38;5;28;01mas\u001b[39;00m pandas_sql:\n\u001b[1;32m    653\u001b[0m     \u001b[38;5;28;01mif\u001b[39;00m \u001b[38;5;28misinstance\u001b[39m(pandas_sql, SQLiteDatabase):\n\u001b[0;32m--> 654\u001b[0m         \u001b[38;5;28;01mreturn\u001b[39;00m \u001b[43mpandas_sql\u001b[49m\u001b[38;5;241;43m.\u001b[39;49m\u001b[43mread_query\u001b[49m\u001b[43m(\u001b[49m\n\u001b[1;32m    655\u001b[0m \u001b[43m            \u001b[49m\u001b[43msql\u001b[49m\u001b[43m,\u001b[49m\n\u001b[1;32m    656\u001b[0m \u001b[43m            \u001b[49m\u001b[43mindex_col\u001b[49m\u001b[38;5;241;43m=\u001b[39;49m\u001b[43mindex_col\u001b[49m\u001b[43m,\u001b[49m\n\u001b[1;32m    657\u001b[0m \u001b[43m            \u001b[49m\u001b[43mparams\u001b[49m\u001b[38;5;241;43m=\u001b[39;49m\u001b[43mparams\u001b[49m\u001b[43m,\u001b[49m\n\u001b[1;32m    658\u001b[0m \u001b[43m            \u001b[49m\u001b[43mcoerce_float\u001b[49m\u001b[38;5;241;43m=\u001b[39;49m\u001b[43mcoerce_float\u001b[49m\u001b[43m,\u001b[49m\n\u001b[1;32m    659\u001b[0m \u001b[43m            \u001b[49m\u001b[43mparse_dates\u001b[49m\u001b[38;5;241;43m=\u001b[39;49m\u001b[43mparse_dates\u001b[49m\u001b[43m,\u001b[49m\n\u001b[1;32m    660\u001b[0m \u001b[43m            \u001b[49m\u001b[43mchunksize\u001b[49m\u001b[38;5;241;43m=\u001b[39;49m\u001b[43mchunksize\u001b[49m\u001b[43m,\u001b[49m\n\u001b[1;32m    661\u001b[0m \u001b[43m            \u001b[49m\u001b[43mdtype_backend\u001b[49m\u001b[38;5;241;43m=\u001b[39;49m\u001b[43mdtype_backend\u001b[49m\u001b[43m,\u001b[49m\n\u001b[1;32m    662\u001b[0m \u001b[43m            \u001b[49m\u001b[43mdtype\u001b[49m\u001b[38;5;241;43m=\u001b[39;49m\u001b[43mdtype\u001b[49m\u001b[43m,\u001b[49m\n\u001b[1;32m    663\u001b[0m \u001b[43m        \u001b[49m\u001b[43m)\u001b[49m\n\u001b[1;32m    665\u001b[0m     \u001b[38;5;28;01mtry\u001b[39;00m:\n\u001b[1;32m    666\u001b[0m         _is_table_name \u001b[38;5;241m=\u001b[39m pandas_sql\u001b[38;5;241m.\u001b[39mhas_table(sql)\n",
      "File \u001b[0;32m/opt/conda/lib/python3.10/site-packages/pandas/io/sql.py:2326\u001b[0m, in \u001b[0;36mSQLiteDatabase.read_query\u001b[0;34m(self, sql, index_col, coerce_float, parse_dates, params, chunksize, dtype, dtype_backend)\u001b[0m\n\u001b[1;32m   2315\u001b[0m \u001b[38;5;28;01mdef\u001b[39;00m \u001b[38;5;21mread_query\u001b[39m(\n\u001b[1;32m   2316\u001b[0m     \u001b[38;5;28mself\u001b[39m,\n\u001b[1;32m   2317\u001b[0m     sql,\n\u001b[0;32m   (...)\u001b[0m\n\u001b[1;32m   2324\u001b[0m     dtype_backend: DtypeBackend \u001b[38;5;241m|\u001b[39m Literal[\u001b[38;5;124m\"\u001b[39m\u001b[38;5;124mnumpy\u001b[39m\u001b[38;5;124m\"\u001b[39m] \u001b[38;5;241m=\u001b[39m \u001b[38;5;124m\"\u001b[39m\u001b[38;5;124mnumpy\u001b[39m\u001b[38;5;124m\"\u001b[39m,\n\u001b[1;32m   2325\u001b[0m ) \u001b[38;5;241m-\u001b[39m\u001b[38;5;241m>\u001b[39m DataFrame \u001b[38;5;241m|\u001b[39m Iterator[DataFrame]:\n\u001b[0;32m-> 2326\u001b[0m     cursor \u001b[38;5;241m=\u001b[39m \u001b[38;5;28;43mself\u001b[39;49m\u001b[38;5;241;43m.\u001b[39;49m\u001b[43mexecute\u001b[49m\u001b[43m(\u001b[49m\u001b[43msql\u001b[49m\u001b[43m,\u001b[49m\u001b[43m \u001b[49m\u001b[43mparams\u001b[49m\u001b[43m)\u001b[49m\n\u001b[1;32m   2327\u001b[0m     columns \u001b[38;5;241m=\u001b[39m [col_desc[\u001b[38;5;241m0\u001b[39m] \u001b[38;5;28;01mfor\u001b[39;00m col_desc \u001b[38;5;129;01min\u001b[39;00m cursor\u001b[38;5;241m.\u001b[39mdescription]\n\u001b[1;32m   2329\u001b[0m     \u001b[38;5;28;01mif\u001b[39;00m chunksize \u001b[38;5;129;01mis\u001b[39;00m \u001b[38;5;129;01mnot\u001b[39;00m \u001b[38;5;28;01mNone\u001b[39;00m:\n",
      "File \u001b[0;32m/opt/conda/lib/python3.10/site-packages/pandas/io/sql.py:2271\u001b[0m, in \u001b[0;36mSQLiteDatabase.execute\u001b[0;34m(self, sql, params)\u001b[0m\n\u001b[1;32m   2267\u001b[0m \u001b[38;5;28;01mexcept\u001b[39;00m \u001b[38;5;167;01mException\u001b[39;00m \u001b[38;5;28;01mas\u001b[39;00m inner_exc:  \u001b[38;5;66;03m# pragma: no cover\u001b[39;00m\n\u001b[1;32m   2268\u001b[0m     ex \u001b[38;5;241m=\u001b[39m DatabaseError(\n\u001b[1;32m   2269\u001b[0m         \u001b[38;5;124mf\u001b[39m\u001b[38;5;124m\"\u001b[39m\u001b[38;5;124mExecution failed on sql: \u001b[39m\u001b[38;5;132;01m{\u001b[39;00msql\u001b[38;5;132;01m}\u001b[39;00m\u001b[38;5;130;01m\\n\u001b[39;00m\u001b[38;5;132;01m{\u001b[39;00mexc\u001b[38;5;132;01m}\u001b[39;00m\u001b[38;5;130;01m\\n\u001b[39;00m\u001b[38;5;124munable to rollback\u001b[39m\u001b[38;5;124m\"\u001b[39m\n\u001b[1;32m   2270\u001b[0m     )\n\u001b[0;32m-> 2271\u001b[0m     \u001b[38;5;28;01mraise\u001b[39;00m ex \u001b[38;5;28;01mfrom\u001b[39;00m \u001b[38;5;21;01minner_exc\u001b[39;00m\n\u001b[1;32m   2273\u001b[0m ex \u001b[38;5;241m=\u001b[39m DatabaseError(\u001b[38;5;124mf\u001b[39m\u001b[38;5;124m\"\u001b[39m\u001b[38;5;124mExecution failed on sql \u001b[39m\u001b[38;5;124m'\u001b[39m\u001b[38;5;132;01m{\u001b[39;00msql\u001b[38;5;132;01m}\u001b[39;00m\u001b[38;5;124m'\u001b[39m\u001b[38;5;124m: \u001b[39m\u001b[38;5;132;01m{\u001b[39;00mexc\u001b[38;5;132;01m}\u001b[39;00m\u001b[38;5;124m\"\u001b[39m)\n\u001b[1;32m   2274\u001b[0m \u001b[38;5;28;01mraise\u001b[39;00m ex \u001b[38;5;28;01mfrom\u001b[39;00m \u001b[38;5;21;01mexc\u001b[39;00m\n",
      "\u001b[0;31mDatabaseError\u001b[0m: Execution failed on sql: SELECT * FROM stockdata.company_profile LIMIT 100\nTABLE_NOT_FOUND: line 1:15: Table 'awsdatacatalog.stockdata.company_profile' does not exist\nunable to rollback"
     ]
    }
   ],
   "source": [
    "print(statement)\n",
    "df = pd.read_sql(statement, conn)\n",
    "df.head(5)"
   ]
  },
  {
   "cell_type": "markdown",
   "metadata": {
    "tags": []
   },
   "source": [
    "#### Create Stock Datatables"
   ]
  },
  {
   "cell_type": "markdown",
   "metadata": {},
   "source": [
    "##### Create Athena Table"
   ]
  },
  {
   "cell_type": "markdown",
   "metadata": {},
   "source": [
    "##### Verify The Table Has Been Created Succesfully"
   ]
  },
  {
   "cell_type": "markdown",
   "metadata": {},
   "source": [
    "##### Run A Sample Query"
   ]
  },
  {
   "cell_type": "markdown",
   "metadata": {},
   "source": [
    "## Feature Engineering"
   ]
  },
  {
   "cell_type": "markdown",
   "metadata": {},
   "source": [
    "## Model Development"
   ]
  },
  {
   "cell_type": "markdown",
   "metadata": {},
   "source": [
    "## Training Process"
   ]
  },
  {
   "cell_type": "markdown",
   "metadata": {},
   "source": [
    "## Model Evaluation and Testing"
   ]
  }
 ],
 "metadata": {
  "availableInstances": [
   {
    "_defaultOrder": 0,
    "_isFastLaunch": true,
    "category": "General purpose",
    "gpuNum": 0,
    "hideHardwareSpecs": false,
    "memoryGiB": 4,
    "name": "ml.t3.medium",
    "vcpuNum": 2
   },
   {
    "_defaultOrder": 1,
    "_isFastLaunch": false,
    "category": "General purpose",
    "gpuNum": 0,
    "hideHardwareSpecs": false,
    "memoryGiB": 8,
    "name": "ml.t3.large",
    "vcpuNum": 2
   },
   {
    "_defaultOrder": 2,
    "_isFastLaunch": false,
    "category": "General purpose",
    "gpuNum": 0,
    "hideHardwareSpecs": false,
    "memoryGiB": 16,
    "name": "ml.t3.xlarge",
    "vcpuNum": 4
   },
   {
    "_defaultOrder": 3,
    "_isFastLaunch": false,
    "category": "General purpose",
    "gpuNum": 0,
    "hideHardwareSpecs": false,
    "memoryGiB": 32,
    "name": "ml.t3.2xlarge",
    "vcpuNum": 8
   },
   {
    "_defaultOrder": 4,
    "_isFastLaunch": true,
    "category": "General purpose",
    "gpuNum": 0,
    "hideHardwareSpecs": false,
    "memoryGiB": 8,
    "name": "ml.m5.large",
    "vcpuNum": 2
   },
   {
    "_defaultOrder": 5,
    "_isFastLaunch": false,
    "category": "General purpose",
    "gpuNum": 0,
    "hideHardwareSpecs": false,
    "memoryGiB": 16,
    "name": "ml.m5.xlarge",
    "vcpuNum": 4
   },
   {
    "_defaultOrder": 6,
    "_isFastLaunch": false,
    "category": "General purpose",
    "gpuNum": 0,
    "hideHardwareSpecs": false,
    "memoryGiB": 32,
    "name": "ml.m5.2xlarge",
    "vcpuNum": 8
   },
   {
    "_defaultOrder": 7,
    "_isFastLaunch": false,
    "category": "General purpose",
    "gpuNum": 0,
    "hideHardwareSpecs": false,
    "memoryGiB": 64,
    "name": "ml.m5.4xlarge",
    "vcpuNum": 16
   },
   {
    "_defaultOrder": 8,
    "_isFastLaunch": false,
    "category": "General purpose",
    "gpuNum": 0,
    "hideHardwareSpecs": false,
    "memoryGiB": 128,
    "name": "ml.m5.8xlarge",
    "vcpuNum": 32
   },
   {
    "_defaultOrder": 9,
    "_isFastLaunch": false,
    "category": "General purpose",
    "gpuNum": 0,
    "hideHardwareSpecs": false,
    "memoryGiB": 192,
    "name": "ml.m5.12xlarge",
    "vcpuNum": 48
   },
   {
    "_defaultOrder": 10,
    "_isFastLaunch": false,
    "category": "General purpose",
    "gpuNum": 0,
    "hideHardwareSpecs": false,
    "memoryGiB": 256,
    "name": "ml.m5.16xlarge",
    "vcpuNum": 64
   },
   {
    "_defaultOrder": 11,
    "_isFastLaunch": false,
    "category": "General purpose",
    "gpuNum": 0,
    "hideHardwareSpecs": false,
    "memoryGiB": 384,
    "name": "ml.m5.24xlarge",
    "vcpuNum": 96
   },
   {
    "_defaultOrder": 12,
    "_isFastLaunch": false,
    "category": "General purpose",
    "gpuNum": 0,
    "hideHardwareSpecs": false,
    "memoryGiB": 8,
    "name": "ml.m5d.large",
    "vcpuNum": 2
   },
   {
    "_defaultOrder": 13,
    "_isFastLaunch": false,
    "category": "General purpose",
    "gpuNum": 0,
    "hideHardwareSpecs": false,
    "memoryGiB": 16,
    "name": "ml.m5d.xlarge",
    "vcpuNum": 4
   },
   {
    "_defaultOrder": 14,
    "_isFastLaunch": false,
    "category": "General purpose",
    "gpuNum": 0,
    "hideHardwareSpecs": false,
    "memoryGiB": 32,
    "name": "ml.m5d.2xlarge",
    "vcpuNum": 8
   },
   {
    "_defaultOrder": 15,
    "_isFastLaunch": false,
    "category": "General purpose",
    "gpuNum": 0,
    "hideHardwareSpecs": false,
    "memoryGiB": 64,
    "name": "ml.m5d.4xlarge",
    "vcpuNum": 16
   },
   {
    "_defaultOrder": 16,
    "_isFastLaunch": false,
    "category": "General purpose",
    "gpuNum": 0,
    "hideHardwareSpecs": false,
    "memoryGiB": 128,
    "name": "ml.m5d.8xlarge",
    "vcpuNum": 32
   },
   {
    "_defaultOrder": 17,
    "_isFastLaunch": false,
    "category": "General purpose",
    "gpuNum": 0,
    "hideHardwareSpecs": false,
    "memoryGiB": 192,
    "name": "ml.m5d.12xlarge",
    "vcpuNum": 48
   },
   {
    "_defaultOrder": 18,
    "_isFastLaunch": false,
    "category": "General purpose",
    "gpuNum": 0,
    "hideHardwareSpecs": false,
    "memoryGiB": 256,
    "name": "ml.m5d.16xlarge",
    "vcpuNum": 64
   },
   {
    "_defaultOrder": 19,
    "_isFastLaunch": false,
    "category": "General purpose",
    "gpuNum": 0,
    "hideHardwareSpecs": false,
    "memoryGiB": 384,
    "name": "ml.m5d.24xlarge",
    "vcpuNum": 96
   },
   {
    "_defaultOrder": 20,
    "_isFastLaunch": false,
    "category": "General purpose",
    "gpuNum": 0,
    "hideHardwareSpecs": true,
    "memoryGiB": 0,
    "name": "ml.geospatial.interactive",
    "supportedImageNames": [
     "sagemaker-geospatial-v1-0"
    ],
    "vcpuNum": 0
   },
   {
    "_defaultOrder": 21,
    "_isFastLaunch": true,
    "category": "Compute optimized",
    "gpuNum": 0,
    "hideHardwareSpecs": false,
    "memoryGiB": 4,
    "name": "ml.c5.large",
    "vcpuNum": 2
   },
   {
    "_defaultOrder": 22,
    "_isFastLaunch": false,
    "category": "Compute optimized",
    "gpuNum": 0,
    "hideHardwareSpecs": false,
    "memoryGiB": 8,
    "name": "ml.c5.xlarge",
    "vcpuNum": 4
   },
   {
    "_defaultOrder": 23,
    "_isFastLaunch": false,
    "category": "Compute optimized",
    "gpuNum": 0,
    "hideHardwareSpecs": false,
    "memoryGiB": 16,
    "name": "ml.c5.2xlarge",
    "vcpuNum": 8
   },
   {
    "_defaultOrder": 24,
    "_isFastLaunch": false,
    "category": "Compute optimized",
    "gpuNum": 0,
    "hideHardwareSpecs": false,
    "memoryGiB": 32,
    "name": "ml.c5.4xlarge",
    "vcpuNum": 16
   },
   {
    "_defaultOrder": 25,
    "_isFastLaunch": false,
    "category": "Compute optimized",
    "gpuNum": 0,
    "hideHardwareSpecs": false,
    "memoryGiB": 72,
    "name": "ml.c5.9xlarge",
    "vcpuNum": 36
   },
   {
    "_defaultOrder": 26,
    "_isFastLaunch": false,
    "category": "Compute optimized",
    "gpuNum": 0,
    "hideHardwareSpecs": false,
    "memoryGiB": 96,
    "name": "ml.c5.12xlarge",
    "vcpuNum": 48
   },
   {
    "_defaultOrder": 27,
    "_isFastLaunch": false,
    "category": "Compute optimized",
    "gpuNum": 0,
    "hideHardwareSpecs": false,
    "memoryGiB": 144,
    "name": "ml.c5.18xlarge",
    "vcpuNum": 72
   },
   {
    "_defaultOrder": 28,
    "_isFastLaunch": false,
    "category": "Compute optimized",
    "gpuNum": 0,
    "hideHardwareSpecs": false,
    "memoryGiB": 192,
    "name": "ml.c5.24xlarge",
    "vcpuNum": 96
   },
   {
    "_defaultOrder": 29,
    "_isFastLaunch": true,
    "category": "Accelerated computing",
    "gpuNum": 1,
    "hideHardwareSpecs": false,
    "memoryGiB": 16,
    "name": "ml.g4dn.xlarge",
    "vcpuNum": 4
   },
   {
    "_defaultOrder": 30,
    "_isFastLaunch": false,
    "category": "Accelerated computing",
    "gpuNum": 1,
    "hideHardwareSpecs": false,
    "memoryGiB": 32,
    "name": "ml.g4dn.2xlarge",
    "vcpuNum": 8
   },
   {
    "_defaultOrder": 31,
    "_isFastLaunch": false,
    "category": "Accelerated computing",
    "gpuNum": 1,
    "hideHardwareSpecs": false,
    "memoryGiB": 64,
    "name": "ml.g4dn.4xlarge",
    "vcpuNum": 16
   },
   {
    "_defaultOrder": 32,
    "_isFastLaunch": false,
    "category": "Accelerated computing",
    "gpuNum": 1,
    "hideHardwareSpecs": false,
    "memoryGiB": 128,
    "name": "ml.g4dn.8xlarge",
    "vcpuNum": 32
   },
   {
    "_defaultOrder": 33,
    "_isFastLaunch": false,
    "category": "Accelerated computing",
    "gpuNum": 4,
    "hideHardwareSpecs": false,
    "memoryGiB": 192,
    "name": "ml.g4dn.12xlarge",
    "vcpuNum": 48
   },
   {
    "_defaultOrder": 34,
    "_isFastLaunch": false,
    "category": "Accelerated computing",
    "gpuNum": 1,
    "hideHardwareSpecs": false,
    "memoryGiB": 256,
    "name": "ml.g4dn.16xlarge",
    "vcpuNum": 64
   },
   {
    "_defaultOrder": 35,
    "_isFastLaunch": false,
    "category": "Accelerated computing",
    "gpuNum": 1,
    "hideHardwareSpecs": false,
    "memoryGiB": 61,
    "name": "ml.p3.2xlarge",
    "vcpuNum": 8
   },
   {
    "_defaultOrder": 36,
    "_isFastLaunch": false,
    "category": "Accelerated computing",
    "gpuNum": 4,
    "hideHardwareSpecs": false,
    "memoryGiB": 244,
    "name": "ml.p3.8xlarge",
    "vcpuNum": 32
   },
   {
    "_defaultOrder": 37,
    "_isFastLaunch": false,
    "category": "Accelerated computing",
    "gpuNum": 8,
    "hideHardwareSpecs": false,
    "memoryGiB": 488,
    "name": "ml.p3.16xlarge",
    "vcpuNum": 64
   },
   {
    "_defaultOrder": 38,
    "_isFastLaunch": false,
    "category": "Accelerated computing",
    "gpuNum": 8,
    "hideHardwareSpecs": false,
    "memoryGiB": 768,
    "name": "ml.p3dn.24xlarge",
    "vcpuNum": 96
   },
   {
    "_defaultOrder": 39,
    "_isFastLaunch": false,
    "category": "Memory Optimized",
    "gpuNum": 0,
    "hideHardwareSpecs": false,
    "memoryGiB": 16,
    "name": "ml.r5.large",
    "vcpuNum": 2
   },
   {
    "_defaultOrder": 40,
    "_isFastLaunch": false,
    "category": "Memory Optimized",
    "gpuNum": 0,
    "hideHardwareSpecs": false,
    "memoryGiB": 32,
    "name": "ml.r5.xlarge",
    "vcpuNum": 4
   },
   {
    "_defaultOrder": 41,
    "_isFastLaunch": false,
    "category": "Memory Optimized",
    "gpuNum": 0,
    "hideHardwareSpecs": false,
    "memoryGiB": 64,
    "name": "ml.r5.2xlarge",
    "vcpuNum": 8
   },
   {
    "_defaultOrder": 42,
    "_isFastLaunch": false,
    "category": "Memory Optimized",
    "gpuNum": 0,
    "hideHardwareSpecs": false,
    "memoryGiB": 128,
    "name": "ml.r5.4xlarge",
    "vcpuNum": 16
   },
   {
    "_defaultOrder": 43,
    "_isFastLaunch": false,
    "category": "Memory Optimized",
    "gpuNum": 0,
    "hideHardwareSpecs": false,
    "memoryGiB": 256,
    "name": "ml.r5.8xlarge",
    "vcpuNum": 32
   },
   {
    "_defaultOrder": 44,
    "_isFastLaunch": false,
    "category": "Memory Optimized",
    "gpuNum": 0,
    "hideHardwareSpecs": false,
    "memoryGiB": 384,
    "name": "ml.r5.12xlarge",
    "vcpuNum": 48
   },
   {
    "_defaultOrder": 45,
    "_isFastLaunch": false,
    "category": "Memory Optimized",
    "gpuNum": 0,
    "hideHardwareSpecs": false,
    "memoryGiB": 512,
    "name": "ml.r5.16xlarge",
    "vcpuNum": 64
   },
   {
    "_defaultOrder": 46,
    "_isFastLaunch": false,
    "category": "Memory Optimized",
    "gpuNum": 0,
    "hideHardwareSpecs": false,
    "memoryGiB": 768,
    "name": "ml.r5.24xlarge",
    "vcpuNum": 96
   },
   {
    "_defaultOrder": 47,
    "_isFastLaunch": false,
    "category": "Accelerated computing",
    "gpuNum": 1,
    "hideHardwareSpecs": false,
    "memoryGiB": 16,
    "name": "ml.g5.xlarge",
    "vcpuNum": 4
   },
   {
    "_defaultOrder": 48,
    "_isFastLaunch": false,
    "category": "Accelerated computing",
    "gpuNum": 1,
    "hideHardwareSpecs": false,
    "memoryGiB": 32,
    "name": "ml.g5.2xlarge",
    "vcpuNum": 8
   },
   {
    "_defaultOrder": 49,
    "_isFastLaunch": false,
    "category": "Accelerated computing",
    "gpuNum": 1,
    "hideHardwareSpecs": false,
    "memoryGiB": 64,
    "name": "ml.g5.4xlarge",
    "vcpuNum": 16
   },
   {
    "_defaultOrder": 50,
    "_isFastLaunch": false,
    "category": "Accelerated computing",
    "gpuNum": 1,
    "hideHardwareSpecs": false,
    "memoryGiB": 128,
    "name": "ml.g5.8xlarge",
    "vcpuNum": 32
   },
   {
    "_defaultOrder": 51,
    "_isFastLaunch": false,
    "category": "Accelerated computing",
    "gpuNum": 1,
    "hideHardwareSpecs": false,
    "memoryGiB": 256,
    "name": "ml.g5.16xlarge",
    "vcpuNum": 64
   },
   {
    "_defaultOrder": 52,
    "_isFastLaunch": false,
    "category": "Accelerated computing",
    "gpuNum": 4,
    "hideHardwareSpecs": false,
    "memoryGiB": 192,
    "name": "ml.g5.12xlarge",
    "vcpuNum": 48
   },
   {
    "_defaultOrder": 53,
    "_isFastLaunch": false,
    "category": "Accelerated computing",
    "gpuNum": 4,
    "hideHardwareSpecs": false,
    "memoryGiB": 384,
    "name": "ml.g5.24xlarge",
    "vcpuNum": 96
   },
   {
    "_defaultOrder": 54,
    "_isFastLaunch": false,
    "category": "Accelerated computing",
    "gpuNum": 8,
    "hideHardwareSpecs": false,
    "memoryGiB": 768,
    "name": "ml.g5.48xlarge",
    "vcpuNum": 192
   },
   {
    "_defaultOrder": 55,
    "_isFastLaunch": false,
    "category": "Accelerated computing",
    "gpuNum": 8,
    "hideHardwareSpecs": false,
    "memoryGiB": 1152,
    "name": "ml.p4d.24xlarge",
    "vcpuNum": 96
   },
   {
    "_defaultOrder": 56,
    "_isFastLaunch": false,
    "category": "Accelerated computing",
    "gpuNum": 8,
    "hideHardwareSpecs": false,
    "memoryGiB": 1152,
    "name": "ml.p4de.24xlarge",
    "vcpuNum": 96
   },
   {
    "_defaultOrder": 57,
    "_isFastLaunch": false,
    "category": "Accelerated computing",
    "gpuNum": 0,
    "hideHardwareSpecs": false,
    "memoryGiB": 32,
    "name": "ml.trn1.2xlarge",
    "vcpuNum": 8
   },
   {
    "_defaultOrder": 58,
    "_isFastLaunch": false,
    "category": "Accelerated computing",
    "gpuNum": 0,
    "hideHardwareSpecs": false,
    "memoryGiB": 512,
    "name": "ml.trn1.32xlarge",
    "vcpuNum": 128
   },
   {
    "_defaultOrder": 59,
    "_isFastLaunch": false,
    "category": "Accelerated computing",
    "gpuNum": 0,
    "hideHardwareSpecs": false,
    "memoryGiB": 512,
    "name": "ml.trn1n.32xlarge",
    "vcpuNum": 128
   }
  ],
  "instance_type": "ml.t3.medium",
  "kernelspec": {
   "display_name": "Python 3 (Data Science 3.0)",
   "language": "python",
   "name": "python3__SAGEMAKER_INTERNAL__arn:aws:sagemaker:us-east-1:081325390199:image/sagemaker-data-science-310-v1"
  },
  "language_info": {
   "codemirror_mode": {
    "name": "ipython",
    "version": 3
   },
   "file_extension": ".py",
   "mimetype": "text/x-python",
   "name": "python",
   "nbconvert_exporter": "python",
   "pygments_lexer": "ipython3",
   "version": "3.10.6"
  }
 },
 "nbformat": 4,
 "nbformat_minor": 4
}
